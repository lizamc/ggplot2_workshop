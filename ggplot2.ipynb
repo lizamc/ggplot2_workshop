{
 "cells": [
  {
   "cell_type": "markdown",
   "metadata": {},
   "source": [
    "WHAT IS ggplot2?\n",
    "----"
   ]
  },
  {
   "cell_type": "markdown",
   "metadata": {},
   "source": [
    "ggplot2 is an actively maintained open-source chart-drawing package for R, written by Hadley Wickham, based upon the principles of \"Grammar of Graphics\". It partially replaces R's basic plot and the lattice package, while providing a clean, powerful, orthogonal and fun API."
   ]
  },
  {
   "cell_type": "markdown",
   "metadata": {},
   "source": [
    "The basic concept of a ggplot2 graphic in R is that you combine different elements into layers.\n",
    "\n",
    "You independently specify plot building blocks and combine them to create just about any kind of graphical display you want. "
   ]
  },
  {
   "cell_type": "markdown",
   "metadata": {},
   "source": [
    "Building blocks of a graph include:\n",
    "\n",
    "- The data that you want to plot: For ggplot(), this must be a data frame.\n",
    "\n",
    "- A mapping from the data to your plot: This usually is as simple as telling ggplot() what goes on the x-axis and what goes on the y-axis.\n",
    "\n",
    "- A geometric object, or geom in ggplot terminology: The geom defines the overall look of the layer (for example, whether the plot is made up of bars, points, or lines).\n",
    "\n",
    "- A statistical summary, called a stat in ggplot: This describes how you want the data to be summarized (for example, binning for histograms, or smoothing to draw regression lines).\n",
    "\n",
    "And also:\n",
    "- scales\n",
    "- coordinate system\n",
    "- position adjustments\n",
    "- faceting"
   ]
  },
  {
   "cell_type": "markdown",
   "metadata": {},
   "source": [
    "In practice, you describe all this in a short line of code. \n",
    "\n",
    "For example, here is the ggplot2 code to plot some data using two layers.\n",
    "\n",
    "ggplot(diamand, aes(x=carat, y=price)) + geom_point() + stat_smooth()\n",
    "\n",
    "The first layer is a geom that draws the points of a scatterplot; the second layer is a stat that draws a smooth line through the points."
   ]
  },
  {
   "cell_type": "markdown",
   "metadata": {},
   "source": [
    "What is a data frame?\n",
    "--\n",
    "\n",
    "It generally refers to \"tabular\" data. \n",
    "\n",
    "A data frame is a list of variables (columns) of the same number of rows with unique row names."
   ]
  },
  {
   "cell_type": "markdown",
   "metadata": {},
   "source": [
    "There is qplot and ggplot - what are the differences?\n",
    "----\n",
    "\n",
    "- Think of qplot() as a Quick Plot.\n",
    "\n",
    "- Think of ggplot() as a much more Complex Plot."
   ]
  },
  {
   "cell_type": "markdown",
   "metadata": {},
   "source": [
    "How to load ggplot2 and how to have a quick look at Data?\n",
    "--"
   ]
  },
  {
   "cell_type": "code",
   "execution_count": 4,
   "metadata": {
    "collapsed": false
   },
   "outputs": [],
   "source": [
    "##some re-scaling of plots for my notebook - non-important for now\n",
    "library(repr)\n",
    "options(repr.plot.width=4, repr.plot.height=4)\n",
    "\n",
    "##loading ggplot2 package\n",
    "library(ggplot2)"
   ]
  },
  {
   "cell_type": "code",
   "execution_count": 2,
   "metadata": {
    "collapsed": false
   },
   "outputs": [
    {
     "name": "stderr",
     "output_type": "stream",
     "text": [
      "\n",
      "Attaching package: 'MASS'\n",
      "\n",
      "The following object is masked from 'package:plotly':\n",
      "\n",
      "    select\n",
      "\n"
     ]
    },
    {
     "name": "stdout",
     "output_type": "stream",
     "text": [
      "'data.frame':\t65 obs. of  11 variables:\n",
      " $ mfr      : Factor w/ 6 levels \"G\",\"K\",\"N\",\"P\",..: 3 2 2 1 2 1 6 4 5 1 ...\n",
      " $ calories : num  212 212 100 147 110 ...\n",
      " $ protein  : num  12.12 12.12 8 2.67 2 ...\n",
      " $ fat      : num  3.03 3.03 0 2.67 0 ...\n",
      " $ sodium   : num  394 788 280 240 125 ...\n",
      " $ fibre    : num  30.3 27.3 28 2 1 ...\n",
      " $ carbo    : num  15.2 21.2 16 14 11 ...\n",
      " $ sugars   : num  18.2 15.2 0 13.3 14 ...\n",
      " $ shelf    : int  3 3 3 1 2 3 1 3 2 1 ...\n",
      " $ potassium: num  848.5 969.7 660 93.3 30 ...\n",
      " $ vitamins : Factor w/ 3 levels \"100%\",\"enriched\",..: 2 2 2 2 2 2 2 2 2 2 ...\n"
     ]
    }
   ],
   "source": [
    "#lets choose the dataset we are going to work on\n",
    "library(MASS)\n",
    "\n",
    "#Structure of the dataset UScereal\n",
    "str(UScereal)"
   ]
  },
  {
   "cell_type": "markdown",
   "metadata": {},
   "source": [
    "UScereal - Nutritional and Marketing Information on US Cereals\n",
    "--\n",
    "\n",
    "Type: help(UScereal)\n",
    "\n",
    "\n",
    "The UScereal data frame has 65 rows and 11 columns. \n",
    "\n",
    "This data frame contains the following columns:\n",
    "- mfr - manufacturer, represented by its first initial.\n",
    "- calories - number of calories in one portion.\n",
    "- protein - grams of protein in one portion.\n",
    "- fat - grams of fat in one portion.\n",
    "- sodium - milligrams of sodium in one portion.\n",
    "- fibre - grams of dietary fibre in one portion.\n",
    "- carbo - grams of complex carbohydrates in one portion.\n",
    "- sugars - grams of sugars in one portion.\n",
    "- shelf - display shelf (1, 2, or 3, counting from the floor).\n",
    "- potassium - grams of potassium.\n",
    "- vitamins - vitamins and minerals (none, enriched, or 100%)."
   ]
  },
  {
   "cell_type": "code",
   "execution_count": 10,
   "metadata": {
    "collapsed": false
   },
   "outputs": [
    {
     "data": {
      "text/html": [
       "<table>\n",
       "<thead><tr><th></th><th scope=col>mfr</th><th scope=col>calories</th><th scope=col>protein</th><th scope=col>fat</th><th scope=col>sodium</th><th scope=col>fibre</th><th scope=col>carbo</th><th scope=col>sugars</th><th scope=col>shelf</th><th scope=col>potassium</th><th scope=col>vitamins</th></tr></thead>\n",
       "<tbody>\n",
       "\t<tr><th scope=row>100% Bran</th><td>N        </td><td>212.1212 </td><td>12.121212</td><td>3.030303 </td><td>393.9394 </td><td>30.303030</td><td>15.15152 </td><td>18.18182 </td><td>3        </td><td>848.48485</td><td>enriched </td></tr>\n",
       "\t<tr><th scope=row>All-Bran</th><td>K        </td><td>212.1212 </td><td>12.121212</td><td>3.030303 </td><td>787.8788 </td><td>27.272727</td><td>21.21212 </td><td>15.15151 </td><td>3        </td><td>969.69697</td><td>enriched </td></tr>\n",
       "\t<tr><th scope=row>All-Bran with Extra Fiber</th><td>K        </td><td>100.0000 </td><td> 8.000000</td><td>0.000000 </td><td>280.0000 </td><td>28.000000</td><td>16.00000 </td><td> 0.00000 </td><td>3        </td><td>660.00000</td><td>enriched </td></tr>\n",
       "\t<tr><th scope=row>Apple Cinnamon Cheerios</th><td>G        </td><td>146.6667 </td><td> 2.666667</td><td>2.666667 </td><td>240.0000 </td><td> 2.000000</td><td>14.00000 </td><td>13.33333 </td><td>1        </td><td> 93.33333</td><td>enriched </td></tr>\n",
       "\t<tr><th scope=row>Apple Jacks</th><td>K        </td><td>110.0000 </td><td> 2.000000</td><td>0.000000 </td><td>125.0000 </td><td> 1.000000</td><td>11.00000 </td><td>14.00000 </td><td>2        </td><td> 30.00000</td><td>enriched </td></tr>\n",
       "\t<tr><th scope=row>Basic 4</th><td>G        </td><td>173.3333 </td><td> 4.000000</td><td>2.666667 </td><td>280.0000 </td><td> 2.666667</td><td>24.00000 </td><td>10.66667 </td><td>3        </td><td>133.33333</td><td>enriched </td></tr>\n",
       "</tbody>\n",
       "</table>\n"
      ],
      "text/latex": [
       "\\begin{tabular}{r|lllllllllll}\n",
       "  & mfr & calories & protein & fat & sodium & fibre & carbo & sugars & shelf & potassium & vitamins\\\\\n",
       "\\hline\n",
       "\t100\\% Bran & N         & 212.1212  & 12.121212 & 3.030303  & 393.9394  & 30.303030 & 15.15152  & 18.18182  & 3         & 848.48485 & enriched \\\\\n",
       "\tAll-Bran & K         & 212.1212  & 12.121212 & 3.030303  & 787.8788  & 27.272727 & 21.21212  & 15.15151  & 3         & 969.69697 & enriched \\\\\n",
       "\tAll-Bran with Extra Fiber & K         & 100.0000  &  8.000000 & 0.000000  & 280.0000  & 28.000000 & 16.00000  &  0.00000  & 3         & 660.00000 & enriched \\\\\n",
       "\tApple Cinnamon Cheerios & G         & 146.6667  &  2.666667 & 2.666667  & 240.0000  &  2.000000 & 14.00000  & 13.33333  & 1         &  93.33333 & enriched \\\\\n",
       "\tApple Jacks & K         & 110.0000  &  2.000000 & 0.000000  & 125.0000  &  1.000000 & 11.00000  & 14.00000  & 2         &  30.00000 & enriched \\\\\n",
       "\tBasic 4 & G         & 173.3333  &  4.000000 & 2.666667  & 280.0000  &  2.666667 & 24.00000  & 10.66667  & 3         & 133.33333 & enriched \\\\\n",
       "\\end{tabular}\n"
      ],
      "text/markdown": [
       "\n",
       "| <!--/--> | mfr | calories | protein | fat | sodium | fibre | carbo | sugars | shelf | potassium | vitamins | \n",
       "|---|---|---|---|---|---|\n",
       "| 100% Bran | N         | 212.1212  | 12.121212 | 3.030303  | 393.9394  | 30.303030 | 15.15152  | 18.18182  | 3         | 848.48485 | enriched  | \n",
       "| All-Bran | K         | 212.1212  | 12.121212 | 3.030303  | 787.8788  | 27.272727 | 21.21212  | 15.15151  | 3         | 969.69697 | enriched  | \n",
       "| All-Bran with Extra Fiber | K         | 100.0000  |  8.000000 | 0.000000  | 280.0000  | 28.000000 | 16.00000  |  0.00000  | 3         | 660.00000 | enriched  | \n",
       "| Apple Cinnamon Cheerios | G         | 146.6667  |  2.666667 | 2.666667  | 240.0000  |  2.000000 | 14.00000  | 13.33333  | 1         |  93.33333 | enriched  | \n",
       "| Apple Jacks | K         | 110.0000  |  2.000000 | 0.000000  | 125.0000  |  1.000000 | 11.00000  | 14.00000  | 2         |  30.00000 | enriched  | \n",
       "| Basic 4 | G         | 173.3333  |  4.000000 | 2.666667  | 280.0000  |  2.666667 | 24.00000  | 10.66667  | 3         | 133.33333 | enriched  | \n",
       "\n",
       "\n"
      ],
      "text/plain": [
       "                          mfr calories protein   fat      sodium   fibre    \n",
       "100% Bran                 N   212.1212 12.121212 3.030303 393.9394 30.303030\n",
       "All-Bran                  K   212.1212 12.121212 3.030303 787.8788 27.272727\n",
       "All-Bran with Extra Fiber K   100.0000  8.000000 0.000000 280.0000 28.000000\n",
       "Apple Cinnamon Cheerios   G   146.6667  2.666667 2.666667 240.0000  2.000000\n",
       "Apple Jacks               K   110.0000  2.000000 0.000000 125.0000  1.000000\n",
       "Basic 4                   G   173.3333  4.000000 2.666667 280.0000  2.666667\n",
       "                          carbo    sugars   shelf potassium vitamins\n",
       "100% Bran                 15.15152 18.18182 3     848.48485 enriched\n",
       "All-Bran                  21.21212 15.15151 3     969.69697 enriched\n",
       "All-Bran with Extra Fiber 16.00000  0.00000 3     660.00000 enriched\n",
       "Apple Cinnamon Cheerios   14.00000 13.33333 1      93.33333 enriched\n",
       "Apple Jacks               11.00000 14.00000 2      30.00000 enriched\n",
       "Basic 4                   24.00000 10.66667 3     133.33333 enriched"
      ]
     },
     "metadata": {},
     "output_type": "display_data"
    }
   ],
   "source": [
    "#some lines\n",
    "head(UScereal)"
   ]
  },
  {
   "cell_type": "markdown",
   "metadata": {},
   "source": [
    "USE PANDER HERE!!!!"
   ]
  },
  {
   "cell_type": "code",
   "execution_count": 14,
   "metadata": {
    "collapsed": false
   },
   "outputs": [
    {
     "data": {
      "image/png": "[encoded data removed]",
      "text/plain": [
       "Plot with title \"Histogram of UScereal$protein\""
      ]
     },
     "metadata": {},
     "output_type": "display_data"
    }
   ],
   "source": [
    "##Basic Histogram without ggplot2\n",
    "hist(UScereal$protein)"
   ]
  },
  {
   "cell_type": "markdown",
   "metadata": {},
   "source": [
    "Basic plot:\n",
    "---------------------------------------"
   ]
  },
  {
   "cell_type": "code",
   "execution_count": 19,
   "metadata": {
    "collapsed": false
   },
   "outputs": [
    {
     "data": {
      "image/png": "[encoded data removed]",
      "text/plain": [
       "Plot with title \"Sugars and calories in US cereals\""
      ]
     },
     "metadata": {},
     "output_type": "display_data"
    }
   ],
   "source": [
    "plot(UScereal$sugars, UScereal$calories)\n",
    "title(\"Sugars and calories in US cereals\")\n",
    "points(sugars ~ calories, col=\"red\", data=UScereal)"
   ]
  },
  {
   "cell_type": "markdown",
   "metadata": {},
   "source": [
    "Lets Start With qplot()\n",
    "----------------------"
   ]
  },
  {
   "cell_type": "markdown",
   "metadata": {},
   "source": [
    "For start we will learn to make some simple plots with our first ggplot2 function: qplot.\n",
    "\n",
    "qplot() has been designed to be very similar to plot(), which should make it easy if you're already familiar with plotting in R. \n",
    "\n",
    "During an R session you can always get a summary of all the arguments to qplot() with R help, ?qplot"
   ]
  },
  {
   "cell_type": "markdown",
   "metadata": {},
   "source": [
    "SCATTER-PLOTS\n",
    "--------------"
   ]
  },
  {
   "cell_type": "code",
   "execution_count": 37,
   "metadata": {
    "collapsed": false
   },
   "outputs": [
    {
     "data": {},
     "metadata": {},
     "output_type": "display_data"
    },
    {
     "data": {
      "image/png": "[encoded data removed]",
      "text/plain": [
       "plot without title"
      ]
     },
     "metadata": {},
     "output_type": "display_data"
    }
   ],
   "source": [
    "qplot(sugars, calories, data = UScereal)"
   ]
  },
  {
   "cell_type": "markdown",
   "metadata": {},
   "source": [
    "Lets have a look:\n",
    "\n",
    "qplot(x, y, data=, color=, shape=, size=, alpha=, geom=, method=, formula=, facets=, xlim=, ylim= xlab=, ylab=, main=, sub=)"
   ]
  },
  {
   "cell_type": "code",
   "execution_count": 29,
   "metadata": {
    "collapsed": false
   },
   "outputs": [
    {
     "data": {},
     "metadata": {},
     "output_type": "display_data"
    },
    {
     "data": {
      "image/png": "[encoded data removed]",
      "text/plain": [
       "plot without title"
      ]
     },
     "metadata": {},
     "output_type": "display_data"
    }
   ],
   "source": [
    "qplot(sugars, calories, data=UScereal, color = sugars, xlab=\"Calories per portion\", ylab=\"Proteins per portion\")"
   ]
  },
  {
   "cell_type": "markdown",
   "metadata": {},
   "source": [
    "QUESTION:\n",
    "\n",
    "- Look at the dataset airquality that comes with R\n",
    "- Plot a scatter plot of Ozone Vs. Day\n",
    "- Name the axis\n",
    "- Let Wind be the color"
   ]
  },
  {
   "cell_type": "code",
   "execution_count": 8,
   "metadata": {
    "collapsed": false
   },
   "outputs": [
    {
     "data": {
      "text/html": [
       "<table>\n",
       "<thead><tr><th scope=col>Ozone</th><th scope=col>Solar.R</th><th scope=col>Wind</th><th scope=col>Temp</th><th scope=col>Month</th><th scope=col>Day</th></tr></thead>\n",
       "<tbody>\n",
       "\t<tr><td>41  </td><td>190 </td><td> 7.4</td><td>67  </td><td>5   </td><td>1   </td></tr>\n",
       "\t<tr><td>36  </td><td>118 </td><td> 8.0</td><td>72  </td><td>5   </td><td>2   </td></tr>\n",
       "\t<tr><td>12  </td><td>149 </td><td>12.6</td><td>74  </td><td>5   </td><td>3   </td></tr>\n",
       "\t<tr><td>18  </td><td>313 </td><td>11.5</td><td>62  </td><td>5   </td><td>4   </td></tr>\n",
       "\t<tr><td>NA  </td><td> NA </td><td>14.3</td><td>56  </td><td>5   </td><td>5   </td></tr>\n",
       "\t<tr><td>28  </td><td> NA </td><td>14.9</td><td>66  </td><td>5   </td><td>6   </td></tr>\n",
       "</tbody>\n",
       "</table>\n"
      ],
      "text/latex": [
       "\\begin{tabular}{r|llllll}\n",
       " Ozone & Solar.R & Wind & Temp & Month & Day\\\\\n",
       "\\hline\n",
       "\t 41   & 190  &  7.4 & 67   & 5    & 1   \\\\\n",
       "\t 36   & 118  &  8.0 & 72   & 5    & 2   \\\\\n",
       "\t 12   & 149  & 12.6 & 74   & 5    & 3   \\\\\n",
       "\t 18   & 313  & 11.5 & 62   & 5    & 4   \\\\\n",
       "\t NA   &  NA  & 14.3 & 56   & 5    & 5   \\\\\n",
       "\t 28   &  NA  & 14.9 & 66   & 5    & 6   \\\\\n",
       "\\end{tabular}\n"
      ],
      "text/markdown": [
       "\n",
       "Ozone | Solar.R | Wind | Temp | Month | Day | \n",
       "|---|---|---|---|---|---|\n",
       "| 41   | 190  |  7.4 | 67   | 5    | 1    | \n",
       "| 36   | 118  |  8.0 | 72   | 5    | 2    | \n",
       "| 12   | 149  | 12.6 | 74   | 5    | 3    | \n",
       "| 18   | 313  | 11.5 | 62   | 5    | 4    | \n",
       "| NA   |  NA  | 14.3 | 56   | 5    | 5    | \n",
       "| 28   |  NA  | 14.9 | 66   | 5    | 6    | \n",
       "\n",
       "\n"
      ],
      "text/plain": [
       "  Ozone Solar.R Wind Temp Month Day\n",
       "1 41    190      7.4 67   5     1  \n",
       "2 36    118      8.0 72   5     2  \n",
       "3 12    149     12.6 74   5     3  \n",
       "4 18    313     11.5 62   5     4  \n",
       "5 NA     NA     14.3 56   5     5  \n",
       "6 28     NA     14.9 66   5     6  "
      ]
     },
     "metadata": {},
     "output_type": "display_data"
    }
   ],
   "source": [
    "head(airquality)\n",
    "##There are many NA's in this dataset. Be carefull!"
   ]
  },
  {
   "cell_type": "code",
   "execution_count": 9,
   "metadata": {
    "collapsed": false
   },
   "outputs": [
    {
     "name": "stderr",
     "output_type": "stream",
     "text": [
      "Warning message:\n",
      "\"Removed 37 rows containing missing values (geom_point).\""
     ]
    },
    {
     "data": {},
     "metadata": {},
     "output_type": "display_data"
    },
    {
     "data": {
      "image/png": "[encoded data removed]",
      "text/plain": [
       "plot without title"
      ]
     },
     "metadata": {},
     "output_type": "display_data"
    }
   ],
   "source": [
    "library(datasets)\n",
    "qplot(Ozone, Day, data=airquality, color=Wind, xlab=\"Ozone\", ylab=\"Day of the Week\")"
   ]
  },
  {
   "cell_type": "markdown",
   "metadata": {},
   "source": [
    "Colour, size and shape are all examples of aesthetic attributes, visual properties that affect the way observations are displayed. We will talk about it in a minute.\n",
    "\n",
    "Back to UScereal:"
   ]
  },
  {
   "cell_type": "code",
   "execution_count": 32,
   "metadata": {
    "collapsed": false
   },
   "outputs": [
    {
     "data": {},
     "metadata": {},
     "output_type": "display_data"
    },
    {
     "data": {
      "image/png": "[encoded data removed]",
      "text/plain": [
       "plot without title"
      ]
     },
     "metadata": {},
     "output_type": "display_data"
    }
   ],
   "source": [
    "qplot(sugars, calories, data = UScereal, color=vitamins, size=3, xlab=\"Sugars\", \n",
    "      ylab=\"Calories\")"
   ]
  },
  {
   "cell_type": "markdown",
   "metadata": {},
   "source": [
    "To make a semi-transparent colour you can use the alpha aesthetic, which takes a value between 0 (completely transparent) and 1 (complete opaque). \n",
    "\n",
    "It's often useful to specify the transparency as a fraction, e.g., 1/10 or 1/20, as the denominator specifies the number of points that must overplot to get a completely opaque colour."
   ]
  },
  {
   "cell_type": "code",
   "execution_count": 41,
   "metadata": {
    "collapsed": false
   },
   "outputs": [
    {
     "data": {},
     "metadata": {},
     "output_type": "display_data"
    },
    {
     "data": {
      "image/png": "[encoded data removed]",
      "text/plain": [
       "plot without title"
      ]
     },
     "metadata": {},
     "output_type": "display_data"
    }
   ],
   "source": [
    "qplot(sugars, calories, data = UScereal, size=3) #no transparency"
   ]
  },
  {
   "cell_type": "code",
   "execution_count": 42,
   "metadata": {
    "collapsed": false
   },
   "outputs": [
    {
     "data": {},
     "metadata": {},
     "output_type": "display_data"
    },
    {
     "data": {
      "image/png": "[encoded data removed]",
      "text/plain": [
       "plot without title"
      ]
     },
     "metadata": {},
     "output_type": "display_data"
    }
   ],
   "source": [
    "qplot(sugars, calories, data = UScereal, size=3, alpha = 1/200)"
   ]
  },
  {
   "cell_type": "markdown",
   "metadata": {},
   "source": [
    "qplot is not limited to scatterplots, but can produce almost any kind of plot by varying the geom. "
   ]
  },
  {
   "cell_type": "markdown",
   "metadata": {},
   "source": [
    "About geoms\n",
    "--"
   ]
  },
  {
   "cell_type": "markdown",
   "metadata": {},
   "source": [
    "Geom, short for geometric object, describes the type of object that is used to display the data."
   ]
  },
  {
   "cell_type": "markdown",
   "metadata": {},
   "source": [
    "The following geoms enable you to investigate two-dimensional relationships:\n",
    "\n",
    "geom = \"point\" draws points to produce a scatterplot. This is the default when you supply both x and y arguments.\n",
    "\n",
    "geom = \"smooth\" fits a smoother to the data and displays the smooth and its standard error.\n",
    "\n",
    "geom = \"boxplot\" produces a box-and-whisker plot to summarise the distribution of a set of points.\n",
    "\n",
    "geom = \"path\" and geom = \"line\" draw lines between the data points. Traditionally these are used to explore relationships between time and another variable, but lines may be used to join observations connected in some other way. A line plot is constrained to produce lines that travel from left to right, while paths can go in any direction.\n",
    "\n",
    "For 1d distributions, your choice of geoms is guided by the variable type:\n",
    "\n",
    "For continuous variables, geom = \"histogram\" draws a histogram, geom = \"freqpoly\" a frequency polygon, and geom = \"density\" creates a density plot. The histogram geom is the default when you only supply an x value to qplot().\n",
    "\n",
    "For discrete variables, geom = \"bar\" makes a bar chart."
   ]
  },
  {
   "cell_type": "markdown",
   "metadata": {},
   "source": [
    "<img src=\"geoms.png\">"
   ]
  },
  {
   "cell_type": "markdown",
   "metadata": {},
   "source": [
    "THE ggplot!!\n",
    "---------------------"
   ]
  },
  {
   "cell_type": "markdown",
   "metadata": {
    "collapsed": true
   },
   "source": [
    "Quick Review:\n",
    "\n",
    "- \"gg\" stand for grammar of graphics.\n",
    "\n",
    "- This means ggplot2 contains building blocks with which you can create your own graphical objects. "
   ]
  },
  {
   "cell_type": "markdown",
   "metadata": {},
   "source": [
    "What are the basic components of ggplot2 plots?\n",
    "\n",
    "- DATA FRAME, which contains the data we are trying to plot\n",
    "- AESTHETIC MAPPINGS determine how data are mapped to color, size, shape, etc\n",
    "- GEOMS (geometric objects) are what you see in the plot (points, lines, shapes)\n",
    "- FACETS are the panels used in conditional plots\n",
    "- STATS are statistical transformations such as binning, quantiles, and smoothing which ggplot2 applies to the data\n",
    "- SCALES show what coding an aesthetic map uses (for example, male = red, female = blue)\n",
    "- COORDINATE SYSTEM\n"
   ]
  },
  {
   "cell_type": "markdown",
   "metadata": {},
   "source": [
    "Aesthetic Mapping\n",
    "--\n",
    "\n",
    "In ggplot land aesthetic means \"something you can see\". Examples include:\n",
    "\n",
    "- position (i.e., on the x and y axes)\n",
    "- color (\"outside\" color)\n",
    "- fill (\"inside\" color)\n",
    "- shape (of points)\n",
    "- linetype\n",
    "- size"
   ]
  },
  {
   "cell_type": "code",
   "execution_count": 44,
   "metadata": {
    "collapsed": false
   },
   "outputs": [],
   "source": [
    "g <- ggplot(UScereal, aes(sugars, calories))"
   ]
  },
  {
   "cell_type": "markdown",
   "metadata": {
    "collapsed": false
   },
   "source": [
    "This means that x is \"sugars\" and y is \"calories\".\n",
    "\n",
    "\"Sugars\" and \"Calories\" are column names of the Data Frame UScereal."
   ]
  },
  {
   "cell_type": "markdown",
   "metadata": {},
   "source": [
    "Lets look at same examples:"
   ]
  },
  {
   "cell_type": "code",
   "execution_count": 56,
   "metadata": {
    "collapsed": false
   },
   "outputs": [],
   "source": [
    "g <- ggplot(UScereal, aes(sugars, calories, color=vitamins))"
   ]
  },
  {
   "cell_type": "code",
   "execution_count": 46,
   "metadata": {
    "collapsed": false
   },
   "outputs": [
    {
     "name": "stdout",
     "output_type": "stream",
     "text": [
      "'data.frame':\t65 obs. of  11 variables:\n",
      " $ mfr      : Factor w/ 6 levels \"G\",\"K\",\"N\",\"P\",..: 3 2 2 1 2 1 6 4 5 1 ...\n",
      " $ calories : num  212 212 100 147 110 ...\n",
      " $ protein  : num  12.12 12.12 8 2.67 2 ...\n",
      " $ fat      : num  3.03 3.03 0 2.67 0 ...\n",
      " $ sodium   : num  394 788 280 240 125 ...\n",
      " $ fibre    : num  30.3 27.3 28 2 1 ...\n",
      " $ carbo    : num  15.2 21.2 16 14 11 ...\n",
      " $ sugars   : num  18.2 15.2 0 13.3 14 ...\n",
      " $ shelf    : int  3 3 3 1 2 3 1 3 2 1 ...\n",
      " $ potassium: num  848.5 969.7 660 93.3 30 ...\n",
      " $ vitamins : Factor w/ 3 levels \"100%\",\"enriched\",..: 2 2 2 2 2 2 2 2 2 2 ...\n"
     ]
    }
   ],
   "source": [
    "str(UScereal)\n",
    "\n",
    "\"vitamins\" and \"mft\" are also columns of the Dataframe UScereal."
   ]
  },
  {
   "cell_type": "markdown",
   "metadata": {},
   "source": [
    "To plot it we need to choose a geom. Perhaps a Scatter Plot is the appropriate for now."
   ]
  },
  {
   "cell_type": "markdown",
   "metadata": {},
   "source": [
    "SCATTER PLOTS - Lets talk about them!\n",
    "--"
   ]
  },
  {
   "cell_type": "markdown",
   "metadata": {},
   "source": [
    "Scatter plots are similar to line graphs in that they use horizontal and vertical axes to plot data points. However, they have a very specific purpose. Scatter plots show how much one variable is affected by another. The relationship between two variables is called their correlation."
   ]
  },
  {
   "cell_type": "markdown",
   "metadata": {},
   "source": [
    "The data is displayed as a collection of points, each having the value of one variable determining the position on the horizontal axis and the value of the other variable determining the position on the vertical axis. "
   ]
  },
  {
   "cell_type": "code",
   "execution_count": 57,
   "metadata": {
    "collapsed": false
   },
   "outputs": [
    {
     "data": {},
     "metadata": {},
     "output_type": "display_data"
    },
    {
     "data": {
      "image/png": "[encoded data removed]",
      "text/plain": [
       "plot without title"
      ]
     },
     "metadata": {},
     "output_type": "display_data"
    }
   ],
   "source": [
    "g + geom_point()"
   ]
  },
  {
   "cell_type": "markdown",
   "metadata": {},
   "source": [
    "Let's practice modifying aesthetics now."
   ]
  },
  {
   "cell_type": "code",
   "execution_count": 58,
   "metadata": {
    "collapsed": false
   },
   "outputs": [
    {
     "data": {},
     "metadata": {},
     "output_type": "display_data"
    },
    {
     "data": {
      "image/png": "[encoded data removed]",
      "text/plain": [
       "plot without title"
      ]
     },
     "metadata": {},
     "output_type": "display_data"
    }
   ],
   "source": [
    "g + geom_point(color = \"brown\", size=5, alpha = 1/2)"
   ]
  },
  {
   "cell_type": "markdown",
   "metadata": {},
   "source": [
    "We can see that some circles are more transparent than others, \n",
    "because they correspond to a higher frquency."
   ]
  },
  {
   "cell_type": "code",
   "execution_count": 59,
   "metadata": {
    "collapsed": false
   },
   "outputs": [
    {
     "data": {},
     "metadata": {},
     "output_type": "display_data"
    },
    {
     "data": {
      "image/png": "[encoded data removed]",
      "text/plain": [
       "plot without title"
      ]
     },
     "metadata": {},
     "output_type": "display_data"
    }
   ],
   "source": [
    "g + geom_point(size=5, alpha = 1/2, aes(color = vitamins))"
   ]
  },
  {
   "cell_type": "code",
   "execution_count": 60,
   "metadata": {
    "collapsed": false
   },
   "outputs": [
    {
     "data": {},
     "metadata": {},
     "output_type": "display_data"
    },
    {
     "data": {
      "image/png": "[encoded data removed]",
      "text/plain": [
       "plot without title"
      ]
     },
     "metadata": {},
     "output_type": "display_data"
    }
   ],
   "source": [
    "g + geom_point(size=5, alpha = 1/2, aes(color = vitamins)) + \n",
    "    labs(title = \"Working with Cereals!\") + \n",
    "    labs(x = \"Sugars per portion\", y= \"Calories per portion\")"
   ]
  },
  {
   "cell_type": "markdown",
   "metadata": {},
   "source": [
    "What is the difference between a LINE GRAPH and a SCATTER PLOT?\n",
    "\n",
    "Line graphs are like scatter plots, the difference is that a line is created connecting each data point together."
   ]
  },
  {
   "cell_type": "code",
   "execution_count": 61,
   "metadata": {
    "collapsed": false
   },
   "outputs": [
    {
     "data": {},
     "metadata": {},
     "output_type": "display_data"
    },
    {
     "data": {
      "image/png": "[encoded data removed]",
      "text/plain": [
       "plot without title"
      ]
     },
     "metadata": {},
     "output_type": "display_data"
    }
   ],
   "source": [
    "g + geom_line()"
   ]
  },
  {
   "cell_type": "code",
   "execution_count": 62,
   "metadata": {
    "collapsed": false
   },
   "outputs": [
    {
     "data": {},
     "metadata": {},
     "output_type": "display_data"
    },
    {
     "data": {},
     "metadata": {},
     "output_type": "display_data"
    },
    {
     "data": {
      "image/png": "[encoded data removed]",
      "text/plain": [
       "plot without title"
      ]
     },
     "metadata": {},
     "output_type": "display_data"
    },
    {
     "data": {
      "image/png": "[encoded data removed]",
      "text/plain": [
       "plot without title"
      ]
     },
     "metadata": {},
     "output_type": "display_data"
    }
   ],
   "source": [
    "# Change the line type\n",
    "g + geom_line(linetype = \"dashed\")\n",
    "\n",
    "# I want to see the points:\n",
    "g + geom_line(linetype = \"dashed\") + geom_point()"
   ]
  },
  {
   "cell_type": "markdown",
   "metadata": {},
   "source": [
    "geom_smooth\n",
    "--"
   ]
  },
  {
   "cell_type": "markdown",
   "metadata": {},
   "source": [
    "The curve geom_smooth produces an estimate of the conditional mean function. In our example, it's an estimate of the mean price conditional on the number of carats (it's a particular kind of estimator called LOESS). "
   ]
  },
  {
   "cell_type": "code",
   "execution_count": 64,
   "metadata": {
    "collapsed": false
   },
   "outputs": [
    {
     "name": "stderr",
     "output_type": "stream",
     "text": [
      "`geom_smooth()` using method = 'loess'\n"
     ]
    },
    {
     "data": {},
     "metadata": {},
     "output_type": "display_data"
    },
    {
     "data": {
      "image/png": "[encoded data removed]",
      "text/plain": [
       "plot without title"
      ]
     },
     "metadata": {},
     "output_type": "display_data"
    }
   ],
   "source": [
    "g <- ggplot(UScereal, aes(sugars, calories))\n",
    "g + geom_point() + geom_smooth()"
   ]
  },
  {
   "cell_type": "code",
   "execution_count": 65,
   "metadata": {
    "collapsed": false
   },
   "outputs": [
    {
     "data": {},
     "metadata": {},
     "output_type": "display_data"
    },
    {
     "data": {
      "image/png": "[encoded data removed]",
      "text/plain": [
       "plot without title"
      ]
     },
     "metadata": {},
     "output_type": "display_data"
    }
   ],
   "source": [
    "g + geom_point() + geom_smooth(method = \"lm\")"
   ]
  },
  {
   "cell_type": "code",
   "execution_count": 69,
   "metadata": {
    "collapsed": false
   },
   "outputs": [
    {
     "data": {},
     "metadata": {},
     "output_type": "display_data"
    },
    {
     "data": {
      "image/png": "[encoded data removed]",
      "text/plain": [
       "plot without title"
      ]
     },
     "metadata": {},
     "output_type": "display_data"
    }
   ],
   "source": [
    "g + geom_point(size=5, alpha = 1/2, aes(color = vitamins)) + \n",
    "    labs(title = \"Working with Cereals Again!\") + \n",
    "    labs(x = \"Sugars per portion\", y= \"Calories per portion\") + \n",
    "    geom_smooth(size=4, linetype=3, method=\"lm\", se=FALSE)"
   ]
  },
  {
   "cell_type": "code",
   "execution_count": 70,
   "metadata": {
    "collapsed": false
   },
   "outputs": [
    {
     "data": {},
     "metadata": {},
     "output_type": "display_data"
    },
    {
     "data": {
      "image/png": "[encoded data removed]",
      "text/plain": [
       "plot without title"
      ]
     },
     "metadata": {},
     "output_type": "display_data"
    }
   ],
   "source": [
    "g + geom_point(size=5, alpha = 1/2, aes(color = vitamins)) + \n",
    "    labs(title = \"Working with Cereals Again!\") + \n",
    "    labs(x = \"Sugars per portion\", y= \"Calories per portion\") + \n",
    "    geom_smooth(size=4, linetype=3, method=\"lm\", se=FALSE) + theme_bw()"
   ]
  },
  {
   "cell_type": "markdown",
   "metadata": {},
   "source": [
    "Boxplots and jittered points\n",
    "--"
   ]
  },
  {
   "cell_type": "markdown",
   "metadata": {},
   "source": [
    "When a set of data includes a categorical variable and one or more continuous variables, you will probably be interested to know how the values of the continuous variables vary with the levels of the categorical variable. \n",
    "\n",
    "Box-plots and jittered points offer two ways to do this. The following example explores how the distribution of price per carat varies with the colour of the diamond using jittering (geom = \"jitter\") and box-and-whisker plots (geom = \"boxplot\")."
   ]
  },
  {
   "cell_type": "code",
   "execution_count": 77,
   "metadata": {
    "collapsed": true
   },
   "outputs": [],
   "source": [
    "g <- ggplot(UScereal, aes(vitamins, calories/protein))"
   ]
  },
  {
   "cell_type": "code",
   "execution_count": 78,
   "metadata": {
    "collapsed": false
   },
   "outputs": [
    {
     "data": {},
     "metadata": {},
     "output_type": "display_data"
    },
    {
     "data": {
      "image/png": "[encoded data removed]",
      "text/plain": [
       "plot without title"
      ]
     },
     "metadata": {},
     "output_type": "display_data"
    }
   ],
   "source": [
    "g + geom_jitter()"
   ]
  },
  {
   "cell_type": "code",
   "execution_count": 79,
   "metadata": {
    "collapsed": false
   },
   "outputs": [
    {
     "data": {},
     "metadata": {},
     "output_type": "display_data"
    },
    {
     "data": {
      "image/png": "[encoded data removed]",
      "text/plain": [
       "plot without title"
      ]
     },
     "metadata": {},
     "output_type": "display_data"
    }
   ],
   "source": [
    "g + geom_boxplot()"
   ]
  },
  {
   "cell_type": "markdown",
   "metadata": {},
   "source": [
    "Both plots show the dependency of the spread of calories per protein on cereal vitamins, but the boxplots are more informative, indicating the change in the median and adjacent quartiles."
   ]
  },
  {
   "cell_type": "markdown",
   "metadata": {},
   "source": [
    "Histogram and density plots\n",
    "--"
   ]
  },
  {
   "cell_type": "markdown",
   "metadata": {},
   "source": [
    "Histogram and density plots show the distribution of a single variable. They provide more information about the distribution of a single group than boxplots do, but it is harder to compare many groups."
   ]
  },
  {
   "cell_type": "markdown",
   "metadata": {},
   "source": [
    "The following code shows the distribution of calories with a histogram and a density plot:"
   ]
  },
  {
   "cell_type": "code",
   "execution_count": 80,
   "metadata": {
    "collapsed": false
   },
   "outputs": [
    {
     "name": "stderr",
     "output_type": "stream",
     "text": [
      "`stat_bin()` using `bins = 30`. Pick better value with `binwidth`.\n"
     ]
    },
    {
     "data": {},
     "metadata": {},
     "output_type": "display_data"
    },
    {
     "data": {
      "image/png": "[encoded data removed]",
      "text/plain": [
       "plot without title"
      ]
     },
     "metadata": {},
     "output_type": "display_data"
    }
   ],
   "source": [
    "g <- ggplot(UScereal, aes(calories))\n",
    "g + geom_histogram()"
   ]
  },
  {
   "cell_type": "code",
   "execution_count": 81,
   "metadata": {
    "collapsed": false
   },
   "outputs": [
    {
     "data": {},
     "metadata": {},
     "output_type": "display_data"
    },
    {
     "data": {
      "image/png": "[encoded data removed]",
      "text/plain": [
       "plot without title"
      ]
     },
     "metadata": {},
     "output_type": "display_data"
    }
   ],
   "source": [
    "g + geom_density()"
   ]
  },
  {
   "cell_type": "markdown",
   "metadata": {},
   "source": [
    "For the density plot, the adjust argument controls the degree of smoothness (high values of adjust produce smoother plots). For the histogram, the binwidth argument controls the amount of smoothing by setting the BIN SIZE."
   ]
  },
  {
   "cell_type": "markdown",
   "metadata": {},
   "source": [
    "WHAT IS THE BIN WIDTH?\n",
    "--"
   ]
  },
  {
   "cell_type": "code",
   "execution_count": 83,
   "metadata": {
    "collapsed": false
   },
   "outputs": [
    {
     "name": "stderr",
     "output_type": "stream",
     "text": [
      "`stat_bin()` using `bins = 30`. Pick better value with `binwidth`.\n"
     ]
    },
    {
     "data": {},
     "metadata": {},
     "output_type": "display_data"
    },
    {
     "data": {
      "image/png": "[encoded data removed]",
      "text/plain": [
       "plot without title"
      ]
     },
     "metadata": {},
     "output_type": "display_data"
    }
   ],
   "source": [
    "g <- ggplot(UScereal, aes(calories))\n",
    "g + geom_histogram()"
   ]
  },
  {
   "cell_type": "markdown",
   "metadata": {},
   "source": [
    "We get a message about the binwidth defaulting to 30.\n",
    "\n",
    "When you make a histogram, you're essentially making a bar chart that shows how many data points fit within a certain range. That range is the bin width.\n",
    "\n",
    "So in a histogram, data is grouped into \"bins\". \n",
    "\n",
    "To construct a histogram, the first step is to \"bin\" the range of values—that is, divide the entire range of values into a series of intervals—and then count how many values fall into each interval. The bins are usually specified as consecutive, non-overlapping intervals of a variable.\n",
    "\n",
    "Lets try to calculate the bin width. \n",
    "\n",
    "We simply find the range (maximum - minimum) and divide that by how many bins we'd like to have. \n",
    "\n",
    "A rough guideline for the number of bins is: take the square root of the number of data values you have."
   ]
  },
  {
   "cell_type": "code",
   "execution_count": 87,
   "metadata": {
    "collapsed": false
   },
   "outputs": [
    {
     "data": {
      "text/html": [
       "390"
      ],
      "text/latex": [
       "390"
      ],
      "text/markdown": [
       "390"
      ],
      "text/plain": [
       "[1] 390"
      ]
     },
     "metadata": {},
     "output_type": "display_data"
    }
   ],
   "source": [
    "range_calories = max(UScereal$calories) - min(UScereal$calories)\n",
    "range_calories"
   ]
  },
  {
   "cell_type": "code",
   "execution_count": 92,
   "metadata": {
    "collapsed": false
   },
   "outputs": [
    {
     "data": {
      "text/html": [
       "8.06225774829855"
      ],
      "text/latex": [
       "8.06225774829855"
      ],
      "text/markdown": [
       "8.06225774829855"
      ],
      "text/plain": [
       "[1] 8.062258"
      ]
     },
     "metadata": {},
     "output_type": "display_data"
    }
   ],
   "source": [
    "number_bins = sqrt(nrow(UScereal))\n",
    "number_bins"
   ]
  },
  {
   "cell_type": "code",
   "execution_count": 94,
   "metadata": {
    "collapsed": false
   },
   "outputs": [
    {
     "data": {
      "text/html": [
       "48.3735464897913"
      ],
      "text/latex": [
       "48.3735464897913"
      ],
      "text/markdown": [
       "48.3735464897913"
      ],
      "text/plain": [
       "[1] 48.37355"
      ]
     },
     "metadata": {},
     "output_type": "display_data"
    }
   ],
   "source": [
    "#SO:\n",
    "correct_bin_width = range_calories/number_bins\n",
    "correct_bin_width"
   ]
  },
  {
   "cell_type": "code",
   "execution_count": 95,
   "metadata": {
    "collapsed": false
   },
   "outputs": [
    {
     "data": {},
     "metadata": {},
     "output_type": "display_data"
    },
    {
     "data": {
      "image/png": "[encoded data removed]",
      "text/plain": [
       "plot without title"
      ]
     },
     "metadata": {},
     "output_type": "display_data"
    }
   ],
   "source": [
    "g + geom_histogram(binwidth = 48)"
   ]
  },
  {
   "cell_type": "markdown",
   "metadata": {},
   "source": [
    "No more messages in red!!!"
   ]
  },
  {
   "cell_type": "code",
   "execution_count": 99,
   "metadata": {
    "collapsed": false
   },
   "outputs": [
    {
     "data": {},
     "metadata": {},
     "output_type": "display_data"
    },
    {
     "data": {
      "image/png": "[encoded data removed]",
      "text/plain": [
       "plot without title"
      ]
     },
     "metadata": {},
     "output_type": "display_data"
    }
   ],
   "source": [
    "g + geom_histogram(binwidth = 48, aes(color=mfr, fill=mfr))"
   ]
  },
  {
   "cell_type": "markdown",
   "metadata": {},
   "source": [
    "The counts within each calories grouping (bin) are distributed among the different manufacturers of cereals.\n",
    "\n",
    "ggplot displays these distributions relative to the mfr legend on the right.\n",
    "\n",
    "We can quickly see from this display that mainly P (Post) manufacturer of cereals have calories per portion above 300."
   ]
  },
  {
   "cell_type": "markdown",
   "metadata": {},
   "source": [
    "Time series with line and path plots\n",
    "--"
   ]
  },
  {
   "cell_type": "markdown",
   "metadata": {},
   "source": [
    "Line and path plots are typically used for time series data. \n",
    "\n",
    "Line plots join the points from left to right, while path plots join them in the order that they appear in the dataset (a line plot is just a path plot of the data sorted by x value). \n",
    "\n",
    "Line plots usually have time on the x-axis, showing how a single variable has changed over time. Path plots show how two variables have simultaneously changed over time, with time encoded in the way that the points are joined together.\n",
    "\n",
    "Because there is no time variable in the UScereal data, we use the economics dataset, which contains economic data on the US measured over the last 40 years. \n",
    "\n",
    "The following examples shows two plots of unemployment over time, both produced using geom = \"line\". The first shows an unemployment rate and the second shows the median number of weeks unemployed. "
   ]
  },
  {
   "cell_type": "code",
   "execution_count": 47,
   "metadata": {
    "collapsed": false
   },
   "outputs": [
    {
     "name": "stdout",
     "output_type": "stream",
     "text": [
      "Classes 'tbl_df', 'tbl' and 'data.frame':\t574 obs. of  6 variables:\n",
      " $ date    : Date, format: \"1967-07-01\" \"1967-08-01\" ...\n",
      " $ pce     : num  507 510 516 513 518 ...\n",
      " $ pop     : int  198712 198911 199113 199311 199498 199657 199808 199920 200056 200208 ...\n",
      " $ psavert : num  12.5 12.5 11.7 12.5 12.5 12.1 11.7 12.2 11.6 12.2 ...\n",
      " $ uempmed : num  4.5 4.7 4.6 4.9 4.7 4.8 5.1 4.5 4.1 4.6 ...\n",
      " $ unemploy: int  2944 2945 2958 3143 3066 3018 2878 3001 2877 2709 ...\n"
     ]
    }
   ],
   "source": [
    "str(economics)"
   ]
  },
  {
   "cell_type": "code",
   "execution_count": 48,
   "metadata": {
    "collapsed": false
   },
   "outputs": [
    {
     "data": {},
     "metadata": {},
     "output_type": "display_data"
    },
    {
     "data": {
      "image/png": "[encoded data removed]",
      "text/plain": [
       "plot without title"
      ]
     },
     "metadata": {},
     "output_type": "display_data"
    }
   ],
   "source": [
    "g <- ggplot(economics, aes(date, unemploy/pop))\n",
    "g + geom_line()"
   ]
  },
  {
   "cell_type": "code",
   "execution_count": 49,
   "metadata": {
    "collapsed": false
   },
   "outputs": [
    {
     "data": {},
     "metadata": {},
     "output_type": "display_data"
    },
    {
     "data": {
      "image/png": "[encoded data removed]",
      "text/plain": [
       "plot without title"
      ]
     },
     "metadata": {},
     "output_type": "display_data"
    }
   ],
   "source": [
    "g <- ggplot(economics, aes(date, uempmed))\n",
    "g + geom_line()"
   ]
  },
  {
   "cell_type": "markdown",
   "metadata": {},
   "source": [
    "To examine this relationship in greater detail, we would like to draw both time series on the same plot. We could draw a scatterplot of unemployment rate vs. length of unemployment, but then we could no longer see the evolution over time. The solution is to join points adjacent in time with line segments, forming a path plot.\n",
    "\n",
    "Below we plot unemployment rate vs. length of unemployment and join the individual observations with a path. Because of the many line crossings, the direction in which time flows isn't easy to see in the first plot. In the second plot, we apply the colour aesthetic to the line to make it easier to see the direction of time."
   ]
  },
  {
   "cell_type": "code",
   "execution_count": 55,
   "metadata": {
    "collapsed": false
   },
   "outputs": [
    {
     "data": {},
     "metadata": {},
     "output_type": "display_data"
    },
    {
     "data": {
      "image/png": "[encoded data removed]",
      "text/plain": [
       "plot without title"
      ]
     },
     "metadata": {},
     "output_type": "display_data"
    }
   ],
   "source": [
    "year <- function(x) as.POSIXlt(x)$year + 1900\n",
    "g <- ggplot(economics, aes(unemploy/pop, uempmed))\n",
    "g + geom_path() + geom_point()"
   ]
  },
  {
   "cell_type": "code",
   "execution_count": 61,
   "metadata": {
    "collapsed": false
   },
   "outputs": [
    {
     "data": {},
     "metadata": {},
     "output_type": "display_data"
    },
    {
     "data": {
      "image/png": "[encoded data removed]",
      "text/plain": [
       "plot without title"
      ]
     },
     "metadata": {},
     "output_type": "display_data"
    }
   ],
   "source": [
    "g <- ggplot(economics, aes(unemploy/pop, uempmed, color = year(date)))\n",
    "g + geom_path()"
   ]
  },
  {
   "cell_type": "markdown",
   "metadata": {},
   "source": [
    "We can see that percent unemployed and length of unemployment are highly correlated, although in recent years the length of unemployment has been increasing relative to the unemployment rate."
   ]
  },
  {
   "cell_type": "markdown",
   "metadata": {},
   "source": [
    "FACETING\n",
    "--"
   ]
  },
  {
   "cell_type": "markdown",
   "metadata": {},
   "source": [
    "We have already discussed using aesthetics (colour and shape) to compare subgroups, drawing all groups on the same plot.\n",
    "\n",
    "Faceting takes an alternative approach: It creates tables of graphics by splitting the data into subsets and displaying the same graph for each subset in an arrangement that facilitates comparison."
   ]
  },
  {
   "cell_type": "markdown",
   "metadata": {},
   "source": [
    "The default faceting method in GGplot() creates plots arranged on a grid specified by a faceting formula which looks like row_var ~ col_var. \n",
    "\n",
    "You can specify as many row and column variables as you like, keeping in mind that using more than two variables will often produce a plot so large that it is difficult to see on screen. To facet on only one of columns or rows, use . as a place holder. \n",
    "\n",
    "For example, row_var ~ . will create a single column with multiple rows.\n"
   ]
  },
  {
   "cell_type": "markdown",
   "metadata": {},
   "source": [
    "For faceting we will use a different dataset called Diamonds."
   ]
  },
  {
   "cell_type": "code",
   "execution_count": 102,
   "metadata": {
    "collapsed": false
   },
   "outputs": [
    {
     "name": "stdout",
     "output_type": "stream",
     "text": [
      "Classes 'tbl_df', 'tbl' and 'data.frame':\t53940 obs. of  10 variables:\n",
      " $ carat  : num  0.23 0.21 0.23 0.29 0.31 0.24 0.24 0.26 0.22 0.23 ...\n",
      " $ cut    : Ord.factor w/ 5 levels \"Fair\"<\"Good\"<..: 5 4 2 4 2 3 3 3 1 3 ...\n",
      " $ color  : Ord.factor w/ 7 levels \"D\"<\"E\"<\"F\"<\"G\"<..: 2 2 2 6 7 7 6 5 2 5 ...\n",
      " $ clarity: Ord.factor w/ 8 levels \"I1\"<\"SI2\"<\"SI1\"<..: 2 3 5 4 2 6 7 3 4 5 ...\n",
      " $ depth  : num  61.5 59.8 56.9 62.4 63.3 62.8 62.3 61.9 65.1 59.4 ...\n",
      " $ table  : num  55 61 65 58 58 57 57 55 61 61 ...\n",
      " $ price  : int  326 326 327 334 335 336 336 337 337 338 ...\n",
      " $ x      : num  3.95 3.89 4.05 4.2 4.34 3.94 3.95 4.07 3.87 4 ...\n",
      " $ y      : num  3.98 3.84 4.07 4.23 4.35 3.96 3.98 4.11 3.78 4.05 ...\n",
      " $ z      : num  2.43 2.31 2.31 2.63 2.75 2.48 2.47 2.53 2.49 2.39 ...\n"
     ]
    }
   ],
   "source": [
    "str(diamonds)"
   ]
  },
  {
   "cell_type": "code",
   "execution_count": 103,
   "metadata": {
    "collapsed": false
   },
   "outputs": [
    {
     "data": {
      "text/html": [
       "<table>\n",
       "<thead><tr><th scope=col>carat</th><th scope=col>cut</th><th scope=col>color</th><th scope=col>clarity</th><th scope=col>depth</th><th scope=col>table</th><th scope=col>price</th><th scope=col>x</th><th scope=col>y</th><th scope=col>z</th></tr></thead>\n",
       "<tbody>\n",
       "\t<tr><td>0.23     </td><td>Ideal    </td><td>E        </td><td>SI2      </td><td>61.5     </td><td>55       </td><td>326      </td><td>3.95     </td><td>3.98     </td><td>2.43     </td></tr>\n",
       "\t<tr><td>0.21     </td><td>Premium  </td><td>E        </td><td>SI1      </td><td>59.8     </td><td>61       </td><td>326      </td><td>3.89     </td><td>3.84     </td><td>2.31     </td></tr>\n",
       "\t<tr><td>0.23     </td><td>Good     </td><td>E        </td><td>VS1      </td><td>56.9     </td><td>65       </td><td>327      </td><td>4.05     </td><td>4.07     </td><td>2.31     </td></tr>\n",
       "\t<tr><td>0.29     </td><td>Premium  </td><td>I        </td><td>VS2      </td><td>62.4     </td><td>58       </td><td>334      </td><td>4.20     </td><td>4.23     </td><td>2.63     </td></tr>\n",
       "\t<tr><td>0.31     </td><td>Good     </td><td>J        </td><td>SI2      </td><td>63.3     </td><td>58       </td><td>335      </td><td>4.34     </td><td>4.35     </td><td>2.75     </td></tr>\n",
       "\t<tr><td>0.24     </td><td>Very Good</td><td>J        </td><td>VVS2     </td><td>62.8     </td><td>57       </td><td>336      </td><td>3.94     </td><td>3.96     </td><td>2.48     </td></tr>\n",
       "</tbody>\n",
       "</table>\n"
      ],
      "text/latex": [
       "\\begin{tabular}{r|llllllllll}\n",
       " carat & cut & color & clarity & depth & table & price & x & y & z\\\\\n",
       "\\hline\n",
       "\t 0.23      & Ideal     & E         & SI2       & 61.5      & 55        & 326       & 3.95      & 3.98      & 2.43     \\\\\n",
       "\t 0.21      & Premium   & E         & SI1       & 59.8      & 61        & 326       & 3.89      & 3.84      & 2.31     \\\\\n",
       "\t 0.23      & Good      & E         & VS1       & 56.9      & 65        & 327       & 4.05      & 4.07      & 2.31     \\\\\n",
       "\t 0.29      & Premium   & I         & VS2       & 62.4      & 58        & 334       & 4.20      & 4.23      & 2.63     \\\\\n",
       "\t 0.31      & Good      & J         & SI2       & 63.3      & 58        & 335       & 4.34      & 4.35      & 2.75     \\\\\n",
       "\t 0.24      & Very Good & J         & VVS2      & 62.8      & 57        & 336       & 3.94      & 3.96      & 2.48     \\\\\n",
       "\\end{tabular}\n"
      ],
      "text/markdown": [
       "\n",
       "carat | cut | color | clarity | depth | table | price | x | y | z | \n",
       "|---|---|---|---|---|---|\n",
       "| 0.23      | Ideal     | E         | SI2       | 61.5      | 55        | 326       | 3.95      | 3.98      | 2.43      | \n",
       "| 0.21      | Premium   | E         | SI1       | 59.8      | 61        | 326       | 3.89      | 3.84      | 2.31      | \n",
       "| 0.23      | Good      | E         | VS1       | 56.9      | 65        | 327       | 4.05      | 4.07      | 2.31      | \n",
       "| 0.29      | Premium   | I         | VS2       | 62.4      | 58        | 334       | 4.20      | 4.23      | 2.63      | \n",
       "| 0.31      | Good      | J         | SI2       | 63.3      | 58        | 335       | 4.34      | 4.35      | 2.75      | \n",
       "| 0.24      | Very Good | J         | VVS2      | 62.8      | 57        | 336       | 3.94      | 3.96      | 2.48      | \n",
       "\n",
       "\n"
      ],
      "text/plain": [
       "  carat cut       color clarity depth table price x    y    z   \n",
       "1 0.23  Ideal     E     SI2     61.5  55    326   3.95 3.98 2.43\n",
       "2 0.21  Premium   E     SI1     59.8  61    326   3.89 3.84 2.31\n",
       "3 0.23  Good      E     VS1     56.9  65    327   4.05 4.07 2.31\n",
       "4 0.29  Premium   I     VS2     62.4  58    334   4.20 4.23 2.63\n",
       "5 0.31  Good      J     SI2     63.3  58    335   4.34 4.35 2.75\n",
       "6 0.24  Very Good J     VVS2    62.8  57    336   3.94 3.96 2.48"
      ]
     },
     "metadata": {},
     "output_type": "display_data"
    }
   ],
   "source": [
    "head(diamonds)"
   ]
  },
  {
   "cell_type": "markdown",
   "metadata": {},
   "source": [
    "The following code illustrates this technique with a histogram showing the distribution of carats conditional on color. "
   ]
  },
  {
   "cell_type": "code",
   "execution_count": 104,
   "metadata": {
    "collapsed": false
   },
   "outputs": [
    {
     "data": {},
     "metadata": {},
     "output_type": "display_data"
    },
    {
     "data": {
      "image/png": "[encoded data removed]",
      "text/plain": [
       "plot without title"
      ]
     },
     "metadata": {},
     "output_type": "display_data"
    }
   ],
   "source": [
    "ggplot(diamonds, aes(carat)) + \n",
    "    geom_histogram(binwidth = 0.1) + \n",
    "    facet_grid(color ~.) + \n",
    "    coord_cartesian(xlim = c(0, 3), ylim = c(0, 1800)) "
   ]
  },
  {
   "cell_type": "markdown",
   "metadata": {},
   "source": [
    "Now lets try it with some scatter plots:"
   ]
  },
  {
   "cell_type": "code",
   "execution_count": 90,
   "metadata": {
    "collapsed": false
   },
   "outputs": [
    {
     "data": {},
     "metadata": {},
     "output_type": "display_data"
    },
    {
     "data": {
      "image/png": "[encoded data removed]",
      "text/plain": [
       "plot without title"
      ]
     },
     "metadata": {},
     "output_type": "display_data"
    }
   ],
   "source": [
    "g <- ggplot(diamonds_small, aes(x=carat, y=price, color=color)) + geom_point(shape=1)\n",
    "g"
   ]
  },
  {
   "cell_type": "code",
   "execution_count": 91,
   "metadata": {
    "collapsed": false
   },
   "outputs": [
    {
     "data": {},
     "metadata": {},
     "output_type": "display_data"
    },
    {
     "data": {
      "image/png": "[encoded data removed]",
      "text/plain": [
       "plot without title"
      ]
     },
     "metadata": {},
     "output_type": "display_data"
    }
   ],
   "source": [
    "# Divide by levels of \"color\", in the vertical direction\n",
    "g + facet_grid(color ~ .)"
   ]
  },
  {
   "cell_type": "code",
   "execution_count": 92,
   "metadata": {
    "collapsed": false
   },
   "outputs": [
    {
     "data": {},
     "metadata": {},
     "output_type": "display_data"
    },
    {
     "data": {
      "image/png": "[encoded data removed]",
      "text/plain": [
       "plot without title"
      ]
     },
     "metadata": {},
     "output_type": "display_data"
    }
   ],
   "source": [
    "# Divide by levels of \"color\", in the horizontal direction\n",
    "g + facet_grid(. ~ color)"
   ]
  },
  {
   "cell_type": "code",
   "execution_count": 93,
   "metadata": {
    "collapsed": false
   },
   "outputs": [
    {
     "data": {},
     "metadata": {},
     "output_type": "display_data"
    },
    {
     "data": {
      "image/png": "[encoded data removed]",
      "text/plain": [
       "plot without title"
      ]
     },
     "metadata": {},
     "output_type": "display_data"
    }
   ],
   "source": [
    "# Divide with \"cut\" vertical, \"shape\" horizontal\n",
    "g + facet_grid(cut ~ color)"
   ]
  },
  {
   "cell_type": "code",
   "execution_count": 94,
   "metadata": {
    "collapsed": false
   },
   "outputs": [
    {
     "data": {},
     "metadata": {},
     "output_type": "display_data"
    },
    {
     "data": {
      "image/png": "[encoded data removed]",
      "text/plain": [
       "plot without title"
      ]
     },
     "metadata": {},
     "output_type": "display_data"
    }
   ],
   "source": [
    "# Add whatever you want\n",
    "g + facet_grid(. ~ color) + geom_smooth(method = \"lm\")"
   ]
  },
  {
   "cell_type": "code",
   "execution_count": 96,
   "metadata": {
    "collapsed": false
   },
   "outputs": [
    {
     "name": "stderr",
     "output_type": "stream",
     "text": [
      "Warning message:\n",
      "\"Removed 166 rows containing missing values (geom_point).\""
     ]
    },
    {
     "data": {},
     "metadata": {},
     "output_type": "display_data"
    },
    {
     "data": {
      "image/png": "[encoded data removed]",
      "text/plain": [
       "plot without title"
      ]
     },
     "metadata": {},
     "output_type": "display_data"
    }
   ],
   "source": [
    "g <- ggplot(diamonds_small, aes(x=carat, y=price, color=cut)) + geom_point(shape=1)\n",
    "g + facet_grid(. ~ color) + xlim(0,1) + ylim(0,10000)"
   ]
  },
  {
   "cell_type": "markdown",
   "metadata": {},
   "source": [
    "Resolver problema dos valores no eixo dos x"
   ]
  },
  {
   "cell_type": "markdown",
   "metadata": {},
   "source": [
    "plotly - Interactive ggplot\n",
    "--"
   ]
  },
  {
   "cell_type": "code",
   "execution_count": null,
   "metadata": {
    "collapsed": false
   },
   "outputs": [],
   "source": [
    "library(plotly)\n",
    "\n",
    "ggplot(UScereal, aes(sugars, calories, color=mfr))\n",
    "\n",
    "ggplotly()"
   ]
  },
  {
   "cell_type": "code",
   "execution_count": null,
   "metadata": {
    "collapsed": true
   },
   "outputs": [],
   "source": [
    "ggplotly(ggplot()+geom_bar(data=UScereal,aes(x = sugars, colour = mfr)))\n",
    "ggplotly(ggplot()+geom_bar(data=UScereal,aes(x = sugars, fill = mfr)))\n",
    "ggplotly(ggplot(UScereal, aes(x= sugars, fill = mfr)) + geom_bar() + facet_grid(~mfr))\n",
    "ggplotly(ggplot(UScereal, aes(x= mfr, y = sugars, fill = mfr)) + geom_boxplot()) "
   ]
  },
  {
   "cell_type": "code",
   "execution_count": null,
   "metadata": {
    "collapsed": true
   },
   "outputs": [],
   "source": [
    "### IREI USAR ESTE CÓDIGo MAS NO R STUDIO PQ PARECE Q O JUPYTER NOTEBOOK NÃO CORRE O PLOTLY CORRETAMENTE"
   ]
  },
  {
   "cell_type": "markdown",
   "metadata": {},
   "source": [
    "HEAT MAP!\n",
    "---------------------"
   ]
  },
  {
   "cell_type": "markdown",
   "metadata": {},
   "source": [
    "HEAT MAP - uses intensity (density) of colors to display relationship between two or three or many variables in a two dimensional image.\n"
   ]
  },
  {
   "cell_type": "code",
   "execution_count": 66,
   "metadata": {
    "collapsed": false,
    "scrolled": true
   },
   "outputs": [
    {
     "data": {
      "text/html": [
       "<table>\n",
       "<thead><tr><th scope=col>a</th><th scope=col>b</th><th scope=col>c</th><th scope=col>StringAsFactor</th></tr></thead>\n",
       "<tbody>\n",
       "\t<tr><td>1    </td><td>2    </td><td>1    </td><td>FALSE</td></tr>\n",
       "\t<tr><td>2    </td><td>3    </td><td>2    </td><td>FALSE</td></tr>\n",
       "\t<tr><td>3    </td><td>1    </td><td>3    </td><td>FALSE</td></tr>\n",
       "\t<tr><td>1    </td><td>3    </td><td>4    </td><td>FALSE</td></tr>\n",
       "\t<tr><td>2    </td><td>1    </td><td>5    </td><td>FALSE</td></tr>\n",
       "\t<tr><td>3    </td><td>2    </td><td>6    </td><td>FALSE</td></tr>\n",
       "</tbody>\n",
       "</table>\n"
      ],
      "text/latex": [
       "\\begin{tabular}{r|llll}\n",
       " a & b & c & StringAsFactor\\\\\n",
       "\\hline\n",
       "\t 1     & 2     & 1     & FALSE\\\\\n",
       "\t 2     & 3     & 2     & FALSE\\\\\n",
       "\t 3     & 1     & 3     & FALSE\\\\\n",
       "\t 1     & 3     & 4     & FALSE\\\\\n",
       "\t 2     & 1     & 5     & FALSE\\\\\n",
       "\t 3     & 2     & 6     & FALSE\\\\\n",
       "\\end{tabular}\n"
      ],
      "text/markdown": [
       "\n",
       "a | b | c | StringAsFactor | \n",
       "|---|---|---|---|---|---|\n",
       "| 1     | 2     | 1     | FALSE | \n",
       "| 2     | 3     | 2     | FALSE | \n",
       "| 3     | 1     | 3     | FALSE | \n",
       "| 1     | 3     | 4     | FALSE | \n",
       "| 2     | 1     | 5     | FALSE | \n",
       "| 3     | 2     | 6     | FALSE | \n",
       "\n",
       "\n"
      ],
      "text/plain": [
       "  a b c StringAsFactor\n",
       "1 1 2 1 FALSE         \n",
       "2 2 3 2 FALSE         \n",
       "3 3 1 3 FALSE         \n",
       "4 1 3 4 FALSE         \n",
       "5 2 1 5 FALSE         \n",
       "6 3 2 6 FALSE         "
      ]
     },
     "metadata": {},
     "output_type": "display_data"
    }
   ],
   "source": [
    "##some scaling again\n",
    "options(repr.plot.width=4, repr.plot.height=3)\n",
    "\n",
    "##simples data frame\n",
    "a = c(1 ,2, 3, 1, 2, 3, 1, 2, 3)\n",
    "b = c(2 ,3, 1, 3, 1, 2, 1, 2, 3)\n",
    "c = seq(1,9, by=1)\n",
    "\n",
    "our_data = data.frame(a, b, c, StringAsFactor = FALSE)\n",
    "\n",
    "head(our_data)"
   ]
  },
  {
   "cell_type": "code",
   "execution_count": 67,
   "metadata": {
    "collapsed": false
   },
   "outputs": [
    {
     "data": {},
     "metadata": {},
     "output_type": "display_data"
    },
    {
     "data": {
      "image/png": "[encoded data removed]",
      "text/plain": [
       "plot without title"
      ]
     },
     "metadata": {},
     "output_type": "display_data"
    }
   ],
   "source": [
    "ggplot(our_data, aes(a, b)) + geom_raster(aes(fill = c)) +\n",
    "    labs(title =\"Heat Map\", x = \"Some numbers\", y = \"Some other numbers\") +\n",
    "    scale_fill_continuous(name = \"Some c\")\n"
   ]
  },
  {
   "cell_type": "markdown",
   "metadata": {},
   "source": [
    "EXPERIMENTAR COM O DATASET PARTOS E CESARIANAS\n",
    "--"
   ]
  },
  {
   "cell_type": "code",
   "execution_count": 2,
   "metadata": {
    "collapsed": true
   },
   "outputs": [],
   "source": [
    "partos <- read.csv2(\"partos-e-cesarianas.csv\", header = TRUE, stringsAsFactors= TRUE)"
   ]
  },
  {
   "cell_type": "code",
   "execution_count": 3,
   "metadata": {
    "collapsed": false
   },
   "outputs": [
    {
     "data": {
      "text/html": [
       "<table>\n",
       "<thead><tr><th scope=col>PerÃ.odo</th><th scope=col>RegiÃ.o</th><th scope=col>InstituiÃ.Ã.o</th><th scope=col>LocalizaÃ.Ã.o.GeogrÃ.fica</th><th scope=col>NÂº.Total.de.Partos</th><th scope=col>NÂº.Cesarianas</th></tr></thead>\n",
       "<tbody>\n",
       "\t<tr><td>2015-07                                              </td><td>RegiÃ£o de SaÃºde Norte                              </td><td>Centro Hospitalar PÃ³voa de Varzim/Vila do Conde, EPE</td><td>41.3828711, -8.7589945                               </td><td> 432                                                 </td><td>158                                                  </td></tr>\n",
       "\t<tr><td>2015-08                                              </td><td>RegiÃ£o de SaÃºde Norte                              </td><td>Hospital da Senhora da Oliveira, GuimarÃ£es, EPE     </td><td>41.4387173, -8.3086907                               </td><td>1255                                                 </td><td>363                                                  </td></tr>\n",
       "\t<tr><td>2015-07                                              </td><td>RegiÃ£o de SaÃºde Norte                              </td><td>Centro Hospitalar Entre Douro e Vouga, EPE           </td><td>40.9293884, -8.5458794                               </td><td> 828                                                 </td><td>232                                                  </td></tr>\n",
       "\t<tr><td>2015-07                                              </td><td>RegiÃ£o de SaÃºde do Centro                          </td><td>Unidade Local de SaÃºde da Guarda, EPE               </td><td>40.5309916, -7.2734793                               </td><td> 325                                                 </td><td>106                                                  </td></tr>\n",
       "\t<tr><td>2015-07                                              </td><td>RegiÃ£o de SaÃºde do Centro                          </td><td>Centro Hospitalar Tondela-Viseu, EPE                 </td><td>40.516364, -8.0827433                                </td><td>1047                                                 </td><td>230                                                  </td></tr>\n",
       "\t<tr><td>2015-07                                              </td><td>RegiÃ£o de SaÃºde LVT                                </td><td>Centro Hospitalar Barreiro/Montijo, EPE              </td><td>38.6554005, -9.0592392                               </td><td> 805                                                 </td><td>235                                                  </td></tr>\n",
       "</tbody>\n",
       "</table>\n"
      ],
      "text/latex": [
       "\\begin{tabular}{r|llllll}\n",
       " PerÃ.odo & RegiÃ.o & InstituiÃ.Ã.o & LocalizaÃ.Ã.o.GeogrÃ.fica & NÂº.Total.de.Partos & NÂº.Cesarianas\\\\\n",
       "\\hline\n",
       "\t 2015-07                                               & RegiÃ£o de SaÃºde Norte                               & Centro Hospitalar PÃ³voa de Varzim/Vila do Conde, EPE & 41.3828711, -8.7589945                                &  432                                                  & 158                                                  \\\\\n",
       "\t 2015-08                                               & RegiÃ£o de SaÃºde Norte                               & Hospital da Senhora da Oliveira, GuimarÃ£es, EPE      & 41.4387173, -8.3086907                                & 1255                                                  & 363                                                  \\\\\n",
       "\t 2015-07                                               & RegiÃ£o de SaÃºde Norte                               & Centro Hospitalar Entre Douro e Vouga, EPE            & 40.9293884, -8.5458794                                &  828                                                  & 232                                                  \\\\\n",
       "\t 2015-07                                               & RegiÃ£o de SaÃºde do Centro                           & Unidade Local de SaÃºde da Guarda, EPE                & 40.5309916, -7.2734793                                &  325                                                  & 106                                                  \\\\\n",
       "\t 2015-07                                               & RegiÃ£o de SaÃºde do Centro                           & Centro Hospitalar Tondela-Viseu, EPE                  & 40.516364, -8.0827433                                 & 1047                                                  & 230                                                  \\\\\n",
       "\t 2015-07                                               & RegiÃ£o de SaÃºde LVT                                 & Centro Hospitalar Barreiro/Montijo, EPE               & 38.6554005, -9.0592392                                &  805                                                  & 235                                                  \\\\\n",
       "\\end{tabular}\n"
      ],
      "text/markdown": [
       "\n",
       "PerÃ.odo | RegiÃ.o | InstituiÃ.Ã.o | LocalizaÃ.Ã.o.GeogrÃ.fica | NÂº.Total.de.Partos | NÂº.Cesarianas | \n",
       "|---|---|---|---|---|---|\n",
       "| 2015-07                                               | RegiÃ£o de SaÃºde Norte                               | Centro Hospitalar PÃ³voa de Varzim/Vila do Conde, EPE | 41.3828711, -8.7589945                                |  432                                                  | 158                                                   | \n",
       "| 2015-08                                               | RegiÃ£o de SaÃºde Norte                               | Hospital da Senhora da Oliveira, GuimarÃ£es, EPE      | 41.4387173, -8.3086907                                | 1255                                                  | 363                                                   | \n",
       "| 2015-07                                               | RegiÃ£o de SaÃºde Norte                               | Centro Hospitalar Entre Douro e Vouga, EPE            | 40.9293884, -8.5458794                                |  828                                                  | 232                                                   | \n",
       "| 2015-07                                               | RegiÃ£o de SaÃºde do Centro                           | Unidade Local de SaÃºde da Guarda, EPE                | 40.5309916, -7.2734793                                |  325                                                  | 106                                                   | \n",
       "| 2015-07                                               | RegiÃ£o de SaÃºde do Centro                           | Centro Hospitalar Tondela-Viseu, EPE                  | 40.516364, -8.0827433                                 | 1047                                                  | 230                                                   | \n",
       "| 2015-07                                               | RegiÃ£o de SaÃºde LVT                                 | Centro Hospitalar Barreiro/Montijo, EPE               | 38.6554005, -9.0592392                                |  805                                                  | 235                                                   | \n",
       "\n",
       "\n"
      ],
      "text/plain": [
       "  PerÃ.odo RegiÃ.o                    \n",
       "1 2015-07  RegiÃ£o de SaÃºde Norte    \n",
       "2 2015-08  RegiÃ£o de SaÃºde Norte    \n",
       "3 2015-07  RegiÃ£o de SaÃºde Norte    \n",
       "4 2015-07  RegiÃ£o de SaÃºde do Centro\n",
       "5 2015-07  RegiÃ£o de SaÃºde do Centro\n",
       "6 2015-07  RegiÃ£o de SaÃºde LVT      \n",
       "  InstituiÃ.Ã.o                                        \n",
       "1 Centro Hospitalar PÃ³voa de Varzim/Vila do Conde, EPE\n",
       "2 Hospital da Senhora da Oliveira, GuimarÃ£es, EPE     \n",
       "3 Centro Hospitalar Entre Douro e Vouga, EPE           \n",
       "4 Unidade Local de SaÃºde da Guarda, EPE               \n",
       "5 Centro Hospitalar Tondela-Viseu, EPE                 \n",
       "6 Centro Hospitalar Barreiro/Montijo, EPE              \n",
       "  LocalizaÃ.Ã.o.GeogrÃ.fica NÂº.Total.de.Partos NÂº.Cesarianas\n",
       "1 41.3828711, -8.7589945     432                158           \n",
       "2 41.4387173, -8.3086907    1255                363           \n",
       "3 40.9293884, -8.5458794     828                232           \n",
       "4 40.5309916, -7.2734793     325                106           \n",
       "5 40.516364, -8.0827433     1047                230           \n",
       "6 38.6554005, -9.0592392     805                235           "
      ]
     },
     "metadata": {},
     "output_type": "display_data"
    }
   ],
   "source": [
    "head(partos)"
   ]
  },
  {
   "cell_type": "code",
   "execution_count": 5,
   "metadata": {
    "collapsed": false
   },
   "outputs": [
    {
     "data": {
      "text/html": [
       "<dl class=dl-horizontal>\n",
       "\t<dt>PerÃ.odo</dt>\n",
       "\t\t<dd>FALSE</dd>\n",
       "\t<dt>RegiÃ.o</dt>\n",
       "\t\t<dd>FALSE</dd>\n",
       "\t<dt>InstituiÃ.Ã.o</dt>\n",
       "\t\t<dd>FALSE</dd>\n",
       "\t<dt>LocalizaÃ.Ã.o.GeogrÃ.fica</dt>\n",
       "\t\t<dd>FALSE</dd>\n",
       "\t<dt>NÂº.Total.de.Partos</dt>\n",
       "\t\t<dd>TRUE</dd>\n",
       "\t<dt>NÂº.Cesarianas</dt>\n",
       "\t\t<dd>TRUE</dd>\n",
       "</dl>\n"
      ],
      "text/latex": [
       "\\begin{description*}\n",
       "\\item[PerÃ.odo] FALSE\n",
       "\\item[RegiÃ.o] FALSE\n",
       "\\item[InstituiÃ.Ã.o] FALSE\n",
       "\\item[LocalizaÃ.Ã.o.GeogrÃ.fica] FALSE\n",
       "\\item[NÂº.Total.de.Partos] TRUE\n",
       "\\item[NÂº.Cesarianas] TRUE\n",
       "\\end{description*}\n"
      ],
      "text/markdown": [
       "PerÃ.odo\n",
       ":   FALSERegiÃ.o\n",
       ":   FALSEInstituiÃ.Ã.o\n",
       ":   FALSELocalizaÃ.Ã.o.GeogrÃ.fica\n",
       ":   FALSENÂº.Total.de.Partos\n",
       ":   TRUENÂº.Cesarianas\n",
       ":   TRUE\n",
       "\n"
      ],
      "text/plain": [
       "                 PerÃ.odo                   RegiÃ.o             InstituiÃ.Ã.o \n",
       "                    FALSE                     FALSE                     FALSE \n",
       "LocalizaÃ.Ã.o.GeogrÃ.fica       NÂº.Total.de.Partos            NÂº.Cesarianas \n",
       "                    FALSE                      TRUE                      TRUE "
      ]
     },
     "metadata": {},
     "output_type": "display_data"
    }
   ],
   "source": [
    "indx <- apply(partos, 2, function(x) any(is.na(x) | is.infinite(x)))\n",
    "indx"
   ]
  },
  {
   "cell_type": "code",
   "execution_count": 6,
   "metadata": {
    "collapsed": true
   },
   "outputs": [],
   "source": [
    "partos <- partos[complete.cases(partos),]"
   ]
  },
  {
   "cell_type": "code",
   "execution_count": 7,
   "metadata": {
    "collapsed": false
   },
   "outputs": [
    {
     "data": {
      "text/html": [
       "<dl class=dl-horizontal>\n",
       "\t<dt>PerÃ.odo</dt>\n",
       "\t\t<dd>FALSE</dd>\n",
       "\t<dt>RegiÃ.o</dt>\n",
       "\t\t<dd>FALSE</dd>\n",
       "\t<dt>InstituiÃ.Ã.o</dt>\n",
       "\t\t<dd>FALSE</dd>\n",
       "\t<dt>LocalizaÃ.Ã.o.GeogrÃ.fica</dt>\n",
       "\t\t<dd>FALSE</dd>\n",
       "\t<dt>NÂº.Total.de.Partos</dt>\n",
       "\t\t<dd>FALSE</dd>\n",
       "\t<dt>NÂº.Cesarianas</dt>\n",
       "\t\t<dd>FALSE</dd>\n",
       "</dl>\n"
      ],
      "text/latex": [
       "\\begin{description*}\n",
       "\\item[PerÃ.odo] FALSE\n",
       "\\item[RegiÃ.o] FALSE\n",
       "\\item[InstituiÃ.Ã.o] FALSE\n",
       "\\item[LocalizaÃ.Ã.o.GeogrÃ.fica] FALSE\n",
       "\\item[NÂº.Total.de.Partos] FALSE\n",
       "\\item[NÂº.Cesarianas] FALSE\n",
       "\\end{description*}\n"
      ],
      "text/markdown": [
       "PerÃ.odo\n",
       ":   FALSERegiÃ.o\n",
       ":   FALSEInstituiÃ.Ã.o\n",
       ":   FALSELocalizaÃ.Ã.o.GeogrÃ.fica\n",
       ":   FALSENÂº.Total.de.Partos\n",
       ":   FALSENÂº.Cesarianas\n",
       ":   FALSE\n",
       "\n"
      ],
      "text/plain": [
       "                 PerÃ.odo                   RegiÃ.o             InstituiÃ.Ã.o \n",
       "                    FALSE                     FALSE                     FALSE \n",
       "LocalizaÃ.Ã.o.GeogrÃ.fica       NÂº.Total.de.Partos            NÂº.Cesarianas \n",
       "                    FALSE                     FALSE                     FALSE "
      ]
     },
     "metadata": {},
     "output_type": "display_data"
    }
   ],
   "source": [
    "indx <- apply(partos, 2, function(x) any(is.na(x) | is.infinite(x)))\n",
    "indx"
   ]
  },
  {
   "cell_type": "code",
   "execution_count": 9,
   "metadata": {
    "collapsed": false
   },
   "outputs": [
    {
     "data": {
      "text/html": [
       "<table>\n",
       "<thead><tr><th scope=col>PerÃ.odo</th><th scope=col>RegiÃ.o</th><th scope=col>InstituiÃ.Ã.o</th><th scope=col>LocalizaÃ.Ã.o.GeogrÃ.fica</th><th scope=col>NÂº.Total.de.Partos</th><th scope=col>NÂº.Cesarianas</th><th scope=col>Year</th><th scope=col>Month</th></tr></thead>\n",
       "<tbody>\n",
       "\t<tr><td>2015-07                                              </td><td>RegiÃ£o de SaÃºde Norte                              </td><td>Centro Hospitalar PÃ³voa de Varzim/Vila do Conde, EPE</td><td>41.3828711, -8.7589945                               </td><td> 432                                                 </td><td>158                                                  </td><td>2015                                                 </td><td>07                                                   </td></tr>\n",
       "\t<tr><td>2015-08                                              </td><td>RegiÃ£o de SaÃºde Norte                              </td><td>Hospital da Senhora da Oliveira, GuimarÃ£es, EPE     </td><td>41.4387173, -8.3086907                               </td><td>1255                                                 </td><td>363                                                  </td><td>2015                                                 </td><td>08                                                   </td></tr>\n",
       "\t<tr><td>2015-07                                              </td><td>RegiÃ£o de SaÃºde Norte                              </td><td>Centro Hospitalar Entre Douro e Vouga, EPE           </td><td>40.9293884, -8.5458794                               </td><td> 828                                                 </td><td>232                                                  </td><td>2015                                                 </td><td>07                                                   </td></tr>\n",
       "\t<tr><td>2015-07                                              </td><td>RegiÃ£o de SaÃºde do Centro                          </td><td>Unidade Local de SaÃºde da Guarda, EPE               </td><td>40.5309916, -7.2734793                               </td><td> 325                                                 </td><td>106                                                  </td><td>2015                                                 </td><td>07                                                   </td></tr>\n",
       "\t<tr><td>2015-07                                              </td><td>RegiÃ£o de SaÃºde do Centro                          </td><td>Centro Hospitalar Tondela-Viseu, EPE                 </td><td>40.516364, -8.0827433                                </td><td>1047                                                 </td><td>230                                                  </td><td>2015                                                 </td><td>07                                                   </td></tr>\n",
       "\t<tr><td>2015-07                                              </td><td>RegiÃ£o de SaÃºde LVT                                </td><td>Centro Hospitalar Barreiro/Montijo, EPE              </td><td>38.6554005, -9.0592392                               </td><td> 805                                                 </td><td>235                                                  </td><td>2015                                                 </td><td>07                                                   </td></tr>\n",
       "</tbody>\n",
       "</table>\n"
      ],
      "text/latex": [
       "\\begin{tabular}{r|llllllll}\n",
       " PerÃ.odo & RegiÃ.o & InstituiÃ.Ã.o & LocalizaÃ.Ã.o.GeogrÃ.fica & NÂº.Total.de.Partos & NÂº.Cesarianas & Year & Month\\\\\n",
       "\\hline\n",
       "\t 2015-07                                               & RegiÃ£o de SaÃºde Norte                               & Centro Hospitalar PÃ³voa de Varzim/Vila do Conde, EPE & 41.3828711, -8.7589945                                &  432                                                  & 158                                                   & 2015                                                  & 07                                                   \\\\\n",
       "\t 2015-08                                               & RegiÃ£o de SaÃºde Norte                               & Hospital da Senhora da Oliveira, GuimarÃ£es, EPE      & 41.4387173, -8.3086907                                & 1255                                                  & 363                                                   & 2015                                                  & 08                                                   \\\\\n",
       "\t 2015-07                                               & RegiÃ£o de SaÃºde Norte                               & Centro Hospitalar Entre Douro e Vouga, EPE            & 40.9293884, -8.5458794                                &  828                                                  & 232                                                   & 2015                                                  & 07                                                   \\\\\n",
       "\t 2015-07                                               & RegiÃ£o de SaÃºde do Centro                           & Unidade Local de SaÃºde da Guarda, EPE                & 40.5309916, -7.2734793                                &  325                                                  & 106                                                   & 2015                                                  & 07                                                   \\\\\n",
       "\t 2015-07                                               & RegiÃ£o de SaÃºde do Centro                           & Centro Hospitalar Tondela-Viseu, EPE                  & 40.516364, -8.0827433                                 & 1047                                                  & 230                                                   & 2015                                                  & 07                                                   \\\\\n",
       "\t 2015-07                                               & RegiÃ£o de SaÃºde LVT                                 & Centro Hospitalar Barreiro/Montijo, EPE               & 38.6554005, -9.0592392                                &  805                                                  & 235                                                   & 2015                                                  & 07                                                   \\\\\n",
       "\\end{tabular}\n"
      ],
      "text/markdown": [
       "\n",
       "PerÃ.odo | RegiÃ.o | InstituiÃ.Ã.o | LocalizaÃ.Ã.o.GeogrÃ.fica | NÂº.Total.de.Partos | NÂº.Cesarianas | Year | Month | \n",
       "|---|---|---|---|---|---|\n",
       "| 2015-07                                               | RegiÃ£o de SaÃºde Norte                               | Centro Hospitalar PÃ³voa de Varzim/Vila do Conde, EPE | 41.3828711, -8.7589945                                |  432                                                  | 158                                                   | 2015                                                  | 07                                                    | \n",
       "| 2015-08                                               | RegiÃ£o de SaÃºde Norte                               | Hospital da Senhora da Oliveira, GuimarÃ£es, EPE      | 41.4387173, -8.3086907                                | 1255                                                  | 363                                                   | 2015                                                  | 08                                                    | \n",
       "| 2015-07                                               | RegiÃ£o de SaÃºde Norte                               | Centro Hospitalar Entre Douro e Vouga, EPE            | 40.9293884, -8.5458794                                |  828                                                  | 232                                                   | 2015                                                  | 07                                                    | \n",
       "| 2015-07                                               | RegiÃ£o de SaÃºde do Centro                           | Unidade Local de SaÃºde da Guarda, EPE                | 40.5309916, -7.2734793                                |  325                                                  | 106                                                   | 2015                                                  | 07                                                    | \n",
       "| 2015-07                                               | RegiÃ£o de SaÃºde do Centro                           | Centro Hospitalar Tondela-Viseu, EPE                  | 40.516364, -8.0827433                                 | 1047                                                  | 230                                                   | 2015                                                  | 07                                                    | \n",
       "| 2015-07                                               | RegiÃ£o de SaÃºde LVT                                 | Centro Hospitalar Barreiro/Montijo, EPE               | 38.6554005, -9.0592392                                |  805                                                  | 235                                                   | 2015                                                  | 07                                                    | \n",
       "\n",
       "\n"
      ],
      "text/plain": [
       "  PerÃ.odo RegiÃ.o                    \n",
       "1 2015-07  RegiÃ£o de SaÃºde Norte    \n",
       "2 2015-08  RegiÃ£o de SaÃºde Norte    \n",
       "3 2015-07  RegiÃ£o de SaÃºde Norte    \n",
       "4 2015-07  RegiÃ£o de SaÃºde do Centro\n",
       "5 2015-07  RegiÃ£o de SaÃºde do Centro\n",
       "6 2015-07  RegiÃ£o de SaÃºde LVT      \n",
       "  InstituiÃ.Ã.o                                        \n",
       "1 Centro Hospitalar PÃ³voa de Varzim/Vila do Conde, EPE\n",
       "2 Hospital da Senhora da Oliveira, GuimarÃ£es, EPE     \n",
       "3 Centro Hospitalar Entre Douro e Vouga, EPE           \n",
       "4 Unidade Local de SaÃºde da Guarda, EPE               \n",
       "5 Centro Hospitalar Tondela-Viseu, EPE                 \n",
       "6 Centro Hospitalar Barreiro/Montijo, EPE              \n",
       "  LocalizaÃ.Ã.o.GeogrÃ.fica NÂº.Total.de.Partos NÂº.Cesarianas Year Month\n",
       "1 41.3828711, -8.7589945     432                158            2015 07   \n",
       "2 41.4387173, -8.3086907    1255                363            2015 08   \n",
       "3 40.9293884, -8.5458794     828                232            2015 07   \n",
       "4 40.5309916, -7.2734793     325                106            2015 07   \n",
       "5 40.516364, -8.0827433     1047                230            2015 07   \n",
       "6 38.6554005, -9.0592392     805                235            2015 07   "
      ]
     },
     "metadata": {},
     "output_type": "display_data"
    }
   ],
   "source": [
    "partos$Year <- substr(partos$PerÃ.odo, 1,4)\n",
    "partos$Month <- substr(partos$PerÃ.odo, 6,7)\n",
    "head(partos)"
   ]
  },
  {
   "cell_type": "code",
   "execution_count": 10,
   "metadata": {
    "collapsed": true
   },
   "outputs": [],
   "source": [
    "library(ggplot2)"
   ]
  },
  {
   "cell_type": "code",
   "execution_count": 14,
   "metadata": {
    "collapsed": false
   },
   "outputs": [
    {
     "data": {},
     "metadata": {},
     "output_type": "display_data"
    },
    {
     "data": {
      "image/png": "[encoded data removed]",
      "text/plain": [
       "plot without title"
      ]
     },
     "metadata": {},
     "output_type": "display_data"
    }
   ],
   "source": [
    "g <- ggplot(partos, aes(x=NÂº.Total.de.Partos, y=NÂº.Cesarianas))\n",
    "g + geom_point() + geom_smooth(method=\"lm\")"
   ]
  },
  {
   "cell_type": "code",
   "execution_count": 22,
   "metadata": {
    "collapsed": false
   },
   "outputs": [
    {
     "data": {},
     "metadata": {},
     "output_type": "display_data"
    },
    {
     "data": {
      "image/png": "[encoded data removed]",
      "text/plain": [
       "plot without title"
      ]
     },
     "metadata": {},
     "output_type": "display_data"
    }
   ],
   "source": [
    "g + geom_point() + facet_grid(Year ~ Month)"
   ]
  },
  {
   "cell_type": "code",
   "execution_count": 26,
   "metadata": {
    "collapsed": false
   },
   "outputs": [
    {
     "data": {},
     "metadata": {},
     "output_type": "display_data"
    },
    {
     "data": {
      "image/png": "[encoded data removed]",
      "text/plain": [
       "plot without title"
      ]
     },
     "metadata": {},
     "output_type": "display_data"
    }
   ],
   "source": [
    "g <- ggplot(partos, aes(Year, NÂº.Total.de.Partos))\n",
    "g + geom_boxplot()"
   ]
  },
  {
   "cell_type": "code",
   "execution_count": 28,
   "metadata": {
    "collapsed": false
   },
   "outputs": [
    {
     "data": {},
     "metadata": {},
     "output_type": "display_data"
    },
    {
     "data": {
      "image/png": "[encoded data removed]",
      "text/plain": [
       "plot without title"
      ]
     },
     "metadata": {},
     "output_type": "display_data"
    }
   ],
   "source": [
    "g <- ggplot(partos, aes(Year, NÂº.Cesarianas))\n",
    "g + geom_boxplot()"
   ]
  }
 ],
 "metadata": {
  "kernelspec": {
   "display_name": "R",
   "language": "R",
   "name": "ir"
  },
  "language_info": {
   "codemirror_mode": "r",
   "file_extension": ".r",
   "mimetype": "text/x-r-source",
   "name": "R",
   "pygments_lexer": "r",
   "version": "3.3.2"
  }
 },
 "nbformat": 4,
 "nbformat_minor": 2
}
