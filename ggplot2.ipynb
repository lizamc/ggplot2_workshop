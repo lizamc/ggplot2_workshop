{
 "cells": [
  {
   "cell_type": "markdown",
   "metadata": {},
   "source": [
    "<img src=\"slide2.png\"/>"
   ]
  },
  {
   "cell_type": "markdown",
   "metadata": {},
   "source": [
    "<img src=\"slide1.png\"/>"
   ]
  },
  {
   "cell_type": "markdown",
   "metadata": {},
   "source": [
    "<img src=\"geoms.png\"/>"
   ]
  },
  {
   "cell_type": "markdown",
   "metadata": {},
   "source": [
    "There is qplot and ggplot\n",
    "----\n",
    "\n",
    "- Think of qplot() as a Quick Plot.\n",
    "\n",
    "- Think of ggplot() as a much more Complex Plot."
   ]
  },
  {
   "cell_type": "markdown",
   "metadata": {},
   "source": [
    "How to load ggplot2 and dataset?\n",
    "--"
   ]
  },
  {
   "cell_type": "code",
   "execution_count": 4,
   "metadata": {
    "collapsed": false
   },
   "outputs": [],
   "source": [
    "##some re-scaling of plots for my notebook - non-important for now\n",
    "library(repr)\n",
    "options(repr.plot.width=4, repr.plot.height=4)\n",
    "\n",
    "##loading ggplot2 package\n",
    "library(ggplot2)"
   ]
  },
  {
   "cell_type": "code",
   "execution_count": 5,
   "metadata": {
    "collapsed": false
   },
   "outputs": [
    {
     "name": "stdout",
     "output_type": "stream",
     "text": [
      "'data.frame':\t65 obs. of  11 variables:\n",
      " $ mfr      : Factor w/ 6 levels \"G\",\"K\",\"N\",\"P\",..: 3 2 2 1 2 1 6 4 5 1 ...\n",
      " $ calories : num  212 212 100 147 110 ...\n",
      " $ protein  : num  12.12 12.12 8 2.67 2 ...\n",
      " $ fat      : num  3.03 3.03 0 2.67 0 ...\n",
      " $ sodium   : num  394 788 280 240 125 ...\n",
      " $ fibre    : num  30.3 27.3 28 2 1 ...\n",
      " $ carbo    : num  15.2 21.2 16 14 11 ...\n",
      " $ sugars   : num  18.2 15.2 0 13.3 14 ...\n",
      " $ shelf    : int  3 3 3 1 2 3 1 3 2 1 ...\n",
      " $ potassium: num  848.5 969.7 660 93.3 30 ...\n",
      " $ vitamins : Factor w/ 3 levels \"100%\",\"enriched\",..: 2 2 2 2 2 2 2 2 2 2 ...\n"
     ]
    }
   ],
   "source": [
    "#lets choose the dataset we are going to work on\n",
    "library(MASS)\n",
    "\n",
    "#Structure of the dataset UScereal\n",
    "str(UScereal)"
   ]
  },
  {
   "cell_type": "markdown",
   "metadata": {},
   "source": [
    "\n",
    "You can always type: help(UScereal)\n"
   ]
  },
  {
   "cell_type": "code",
   "execution_count": 151,
   "metadata": {
    "collapsed": false
   },
   "outputs": [
    {
     "data": {
      "text/html": [
       "<table>\n",
       "<thead><tr><th></th><th scope=col>mfr</th><th scope=col>calories</th><th scope=col>protein</th><th scope=col>fat</th><th scope=col>sodium</th><th scope=col>fibre</th><th scope=col>carbo</th><th scope=col>sugars</th><th scope=col>shelf</th><th scope=col>potassium</th><th scope=col>vitamins</th></tr></thead>\n",
       "<tbody>\n",
       "\t<tr><th scope=row>100% Bran</th><td>N        </td><td>212.1212 </td><td>12.121212</td><td>3.030303 </td><td>393.9394 </td><td>30.303030</td><td>15.15152 </td><td>18.18182 </td><td>3        </td><td>848.48485</td><td>enriched </td></tr>\n",
       "\t<tr><th scope=row>All-Bran</th><td>K        </td><td>212.1212 </td><td>12.121212</td><td>3.030303 </td><td>787.8788 </td><td>27.272727</td><td>21.21212 </td><td>15.15151 </td><td>3        </td><td>969.69697</td><td>enriched </td></tr>\n",
       "\t<tr><th scope=row>All-Bran with Extra Fiber</th><td>K        </td><td>100.0000 </td><td> 8.000000</td><td>0.000000 </td><td>280.0000 </td><td>28.000000</td><td>16.00000 </td><td> 0.00000 </td><td>3        </td><td>660.00000</td><td>enriched </td></tr>\n",
       "\t<tr><th scope=row>Apple Cinnamon Cheerios</th><td>G        </td><td>146.6667 </td><td> 2.666667</td><td>2.666667 </td><td>240.0000 </td><td> 2.000000</td><td>14.00000 </td><td>13.33333 </td><td>1        </td><td> 93.33333</td><td>enriched </td></tr>\n",
       "\t<tr><th scope=row>Apple Jacks</th><td>K        </td><td>110.0000 </td><td> 2.000000</td><td>0.000000 </td><td>125.0000 </td><td> 1.000000</td><td>11.00000 </td><td>14.00000 </td><td>2        </td><td> 30.00000</td><td>enriched </td></tr>\n",
       "\t<tr><th scope=row>Basic 4</th><td>G        </td><td>173.3333 </td><td> 4.000000</td><td>2.666667 </td><td>280.0000 </td><td> 2.666667</td><td>24.00000 </td><td>10.66667 </td><td>3        </td><td>133.33333</td><td>enriched </td></tr>\n",
       "</tbody>\n",
       "</table>\n"
      ],
      "text/latex": [
       "\\begin{tabular}{r|lllllllllll}\n",
       "  & mfr & calories & protein & fat & sodium & fibre & carbo & sugars & shelf & potassium & vitamins\\\\\n",
       "\\hline\n",
       "\t100\\% Bran & N         & 212.1212  & 12.121212 & 3.030303  & 393.9394  & 30.303030 & 15.15152  & 18.18182  & 3         & 848.48485 & enriched \\\\\n",
       "\tAll-Bran & K         & 212.1212  & 12.121212 & 3.030303  & 787.8788  & 27.272727 & 21.21212  & 15.15151  & 3         & 969.69697 & enriched \\\\\n",
       "\tAll-Bran with Extra Fiber & K         & 100.0000  &  8.000000 & 0.000000  & 280.0000  & 28.000000 & 16.00000  &  0.00000  & 3         & 660.00000 & enriched \\\\\n",
       "\tApple Cinnamon Cheerios & G         & 146.6667  &  2.666667 & 2.666667  & 240.0000  &  2.000000 & 14.00000  & 13.33333  & 1         &  93.33333 & enriched \\\\\n",
       "\tApple Jacks & K         & 110.0000  &  2.000000 & 0.000000  & 125.0000  &  1.000000 & 11.00000  & 14.00000  & 2         &  30.00000 & enriched \\\\\n",
       "\tBasic 4 & G         & 173.3333  &  4.000000 & 2.666667  & 280.0000  &  2.666667 & 24.00000  & 10.66667  & 3         & 133.33333 & enriched \\\\\n",
       "\\end{tabular}\n"
      ],
      "text/markdown": [
       "\n",
       "| <!--/--> | mfr | calories | protein | fat | sodium | fibre | carbo | sugars | shelf | potassium | vitamins | \n",
       "|---|---|---|---|---|---|\n",
       "| 100% Bran | N         | 212.1212  | 12.121212 | 3.030303  | 393.9394  | 30.303030 | 15.15152  | 18.18182  | 3         | 848.48485 | enriched  | \n",
       "| All-Bran | K         | 212.1212  | 12.121212 | 3.030303  | 787.8788  | 27.272727 | 21.21212  | 15.15151  | 3         | 969.69697 | enriched  | \n",
       "| All-Bran with Extra Fiber | K         | 100.0000  |  8.000000 | 0.000000  | 280.0000  | 28.000000 | 16.00000  |  0.00000  | 3         | 660.00000 | enriched  | \n",
       "| Apple Cinnamon Cheerios | G         | 146.6667  |  2.666667 | 2.666667  | 240.0000  |  2.000000 | 14.00000  | 13.33333  | 1         |  93.33333 | enriched  | \n",
       "| Apple Jacks | K         | 110.0000  |  2.000000 | 0.000000  | 125.0000  |  1.000000 | 11.00000  | 14.00000  | 2         |  30.00000 | enriched  | \n",
       "| Basic 4 | G         | 173.3333  |  4.000000 | 2.666667  | 280.0000  |  2.666667 | 24.00000  | 10.66667  | 3         | 133.33333 | enriched  | \n",
       "\n",
       "\n"
      ],
      "text/plain": [
       "                          mfr calories protein   fat      sodium   fibre    \n",
       "100% Bran                 N   212.1212 12.121212 3.030303 393.9394 30.303030\n",
       "All-Bran                  K   212.1212 12.121212 3.030303 787.8788 27.272727\n",
       "All-Bran with Extra Fiber K   100.0000  8.000000 0.000000 280.0000 28.000000\n",
       "Apple Cinnamon Cheerios   G   146.6667  2.666667 2.666667 240.0000  2.000000\n",
       "Apple Jacks               K   110.0000  2.000000 0.000000 125.0000  1.000000\n",
       "Basic 4                   G   173.3333  4.000000 2.666667 280.0000  2.666667\n",
       "                          carbo    sugars   shelf potassium vitamins\n",
       "100% Bran                 15.15152 18.18182 3     848.48485 enriched\n",
       "All-Bran                  21.21212 15.15151 3     969.69697 enriched\n",
       "All-Bran with Extra Fiber 16.00000  0.00000 3     660.00000 enriched\n",
       "Apple Cinnamon Cheerios   14.00000 13.33333 1      93.33333 enriched\n",
       "Apple Jacks               11.00000 14.00000 2      30.00000 enriched\n",
       "Basic 4                   24.00000 10.66667 3     133.33333 enriched"
      ]
     },
     "metadata": {},
     "output_type": "display_data"
    }
   ],
   "source": [
    "#some lines\n",
    "head(UScereal)"
   ]
  },
  {
   "cell_type": "code",
   "execution_count": 6,
   "metadata": {
    "collapsed": false,
    "scrolled": true
   },
   "outputs": [
    {
     "data": {
      "image/png": "[encoded data removed]",
      "text/plain": [
       "Plot with title \"Histogram of UScereal$protein\""
      ]
     },
     "metadata": {},
     "output_type": "display_data"
    }
   ],
   "source": [
    "options(repr.plot.width=4, repr.plot.height=2.91)\n",
    "\n",
    "##Basic Histogram without ggplot2\n",
    "hist(UScereal$protein)"
   ]
  },
  {
   "cell_type": "code",
   "execution_count": 7,
   "metadata": {
    "collapsed": false
   },
   "outputs": [
    {
     "data": {
      "image/png": "[encoded data removed]",
      "text/plain": [
       "Plot with title \"Sugars and calories in US cereals\""
      ]
     },
     "metadata": {},
     "output_type": "display_data"
    }
   ],
   "source": [
    "options(repr.plot.width=4, repr.plot.height=4)\n",
    "\n",
    "plot(UScereal$sugars, UScereal$calories)\n",
    "title(\"Sugars and calories in US cereals\")\n",
    "points(sugars ~ calories, col=\"red\", data=UScereal)"
   ]
  },
  {
   "cell_type": "markdown",
   "metadata": {},
   "source": [
    "EXERCÍCIO: À semelhança do histograma acima, construir um histograma que apresente a contagem de proteínas."
   ]
  },
  {
   "cell_type": "markdown",
   "metadata": {},
   "source": [
    "THE ggplot!!\n",
    "---------------------"
   ]
  },
  {
   "cell_type": "code",
   "execution_count": 8,
   "metadata": {
    "collapsed": false
   },
   "outputs": [],
   "source": [
    "g <- ggplot(UScereal, aes(sugars, calories))"
   ]
  },
  {
   "cell_type": "markdown",
   "metadata": {
    "collapsed": false
   },
   "source": [
    "This means that x is \"sugars\" and y is \"calories\".\n",
    "\n",
    "\"sugars\" and \"calories\" are column names of the Dataframe UScereal."
   ]
  },
  {
   "cell_type": "markdown",
   "metadata": {},
   "source": [
    "SCATTER PLOTS\n",
    "--"
   ]
  },
  {
   "cell_type": "code",
   "execution_count": 9,
   "metadata": {
    "collapsed": false
   },
   "outputs": [
    {
     "data": {},
     "metadata": {},
     "output_type": "display_data"
    },
    {
     "data": {
      "image/png": "[encoded data removed]",
      "text/plain": [
       "plot without title"
      ]
     },
     "metadata": {},
     "output_type": "display_data"
    }
   ],
   "source": [
    "g + geom_point()"
   ]
  },
  {
   "cell_type": "markdown",
   "metadata": {},
   "source": [
    "Let's practice modifying aesthetics now."
   ]
  },
  {
   "cell_type": "code",
   "execution_count": 10,
   "metadata": {
    "collapsed": false
   },
   "outputs": [
    {
     "data": {},
     "metadata": {},
     "output_type": "display_data"
    },
    {
     "data": {
      "image/png": "[encoded data removed]",
      "text/plain": [
       "plot without title"
      ]
     },
     "metadata": {},
     "output_type": "display_data"
    }
   ],
   "source": [
    "g + geom_point(aes(color = I(\"brown\")), size=5, alpha = I(1/5))"
   ]
  },
  {
   "cell_type": "markdown",
   "metadata": {},
   "source": [
    "To make a semi-transparent colour you can use the alpha aesthetic, which takes a value between 0 (completely transparent) and 1 (complete opaque). \n",
    "\n",
    "It's often useful to specify the transparency as a fraction, e.g., 1/10 or 1/20, as the denominator specifies the number of points that must overplot to get a completely opaque colour."
   ]
  },
  {
   "cell_type": "markdown",
   "metadata": {},
   "source": [
    "We can see that some circles are more transparent than others, \n",
    "because they correspond to a higher frquency."
   ]
  },
  {
   "cell_type": "code",
   "execution_count": 11,
   "metadata": {
    "collapsed": false
   },
   "outputs": [
    {
     "data": {},
     "metadata": {},
     "output_type": "display_data"
    },
    {
     "data": {
      "image/png": "[encoded data removed]",
      "text/plain": [
       "plot without title"
      ]
     },
     "metadata": {},
     "output_type": "display_data"
    }
   ],
   "source": [
    "g + geom_point(size=5, alpha = I(1/3), aes(color = vitamins)) + \n",
    "    labs(title = \"Working with Cereals!\", x = \"Sugars per portion\", y= \"Calories per portion\")"
   ]
  },
  {
   "cell_type": "markdown",
   "metadata": {},
   "source": [
    "EXERCÍCIO:\n",
    "- Utilizar o dataset \"airquality\" que vem com o R\n",
    "- Fazer um scatter plot com Ozone vs. Day\n",
    "- Deixar a cor ser Wind\n",
    "- Introduzir alguma transparência\n",
    "- Definir um tamanho para os pontos\n",
    "- Dar um título ao gráfico e dar nomes aos eixos"
   ]
  },
  {
   "cell_type": "code",
   "execution_count": 12,
   "metadata": {
    "collapsed": false
   },
   "outputs": [],
   "source": [
    "g <- ggplot(airquality, aes(Ozone, Day))\n"
   ]
  },
  {
   "cell_type": "code",
   "execution_count": 13,
   "metadata": {
    "collapsed": false
   },
   "outputs": [
    {
     "name": "stderr",
     "output_type": "stream",
     "text": [
      "Warning message:\n",
      "\"Removed 37 rows containing missing values (geom_point).\""
     ]
    },
    {
     "data": {},
     "metadata": {},
     "output_type": "display_data"
    },
    {
     "data": {
      "image/png": "[encoded data removed]",
      "text/plain": [
       "plot without title"
      ]
     },
     "metadata": {},
     "output_type": "display_data"
    }
   ],
   "source": [
    "g + geom_point(size=4, alpha=I(1/3), aes(color=Wind)) + labs(title=\"Ozone vs. Day\", xlab=\"Ozono\", ylab=\"Dia da semana\")"
   ]
  },
  {
   "cell_type": "markdown",
   "metadata": {},
   "source": [
    "geom_smooth\n",
    "--"
   ]
  },
  {
   "cell_type": "markdown",
   "metadata": {},
   "source": [
    "geom_smooth fits a smooth curve between two variables.\n",
    "\n",
    "Method LOESS: LOcally WEighted Scatter-plot Smoother (known as locally weighted polynomial regression)\n",
    "or\n",
    "Method LM: Linear Model"
   ]
  },
  {
   "cell_type": "code",
   "execution_count": 14,
   "metadata": {
    "collapsed": false
   },
   "outputs": [
    {
     "data": {},
     "metadata": {},
     "output_type": "display_data"
    },
    {
     "data": {
      "image/png": "[encoded data removed]",
      "text/plain": [
       "plot without title"
      ]
     },
     "metadata": {},
     "output_type": "display_data"
    }
   ],
   "source": [
    "g <- ggplot(UScereal, aes(sugars, calories))\n",
    "g + geom_point() + geom_smooth(method=\"loess\")"
   ]
  },
  {
   "cell_type": "code",
   "execution_count": 15,
   "metadata": {
    "collapsed": false
   },
   "outputs": [
    {
     "data": {},
     "metadata": {},
     "output_type": "display_data"
    },
    {
     "data": {
      "image/png": "[encoded data removed]",
      "text/plain": [
       "plot without title"
      ]
     },
     "metadata": {},
     "output_type": "display_data"
    }
   ],
   "source": [
    "g + geom_point() + geom_smooth(method = \"lm\")"
   ]
  },
  {
   "cell_type": "code",
   "execution_count": 16,
   "metadata": {
    "collapsed": false
   },
   "outputs": [
    {
     "data": {},
     "metadata": {},
     "output_type": "display_data"
    },
    {
     "data": {
      "image/png": "[encoded data removed]",
      "text/plain": [
       "plot without title"
      ]
     },
     "metadata": {},
     "output_type": "display_data"
    }
   ],
   "source": [
    "g + geom_point(size=5, alpha = 1/2, aes(color = vitamins)) + \n",
    "    labs(title = \"Working with Cereals Again!\", x = \"Sugars per portion\", y= \"Calories per portion\") + \n",
    "    geom_smooth(size=4, linetype=1, method=\"lm\", se=FALSE) + theme_bw()"
   ]
  },
  {
   "cell_type": "markdown",
   "metadata": {},
   "source": [
    "EXERCÍCIO: Experimentar construir o gráfico acima mas brincando com o tipo de linha e tamanho. Tentar que a linha seja a tracejado e mais fina."
   ]
  },
  {
   "cell_type": "markdown",
   "metadata": {},
   "source": [
    "Boxplots\n",
    "--"
   ]
  },
  {
   "cell_type": "code",
   "execution_count": 17,
   "metadata": {
    "collapsed": true
   },
   "outputs": [],
   "source": [
    "g <- ggplot(UScereal, aes(x=mfr, y=calories))\n",
    "### G=General Mills, K=Kelloggs, N=Nabisco, P=Post, Q=Quaker Oats, R=Ralston Purina."
   ]
  },
  {
   "cell_type": "code",
   "execution_count": 18,
   "metadata": {
    "collapsed": false
   },
   "outputs": [
    {
     "name": "stderr",
     "output_type": "stream",
     "text": [
      "Warning message:\n",
      "\"Removed 5 rows containing non-finite values (stat_boxplot).\""
     ]
    },
    {
     "data": {},
     "metadata": {},
     "output_type": "display_data"
    },
    {
     "data": {
      "image/png": "[encoded data removed]",
      "text/plain": [
       "plot without title"
      ]
     },
     "metadata": {},
     "output_type": "display_data"
    }
   ],
   "source": [
    "g + geom_boxplot(aes(fill=mfr, color=I(\"black\"))) + \n",
    "    ylim(75, 240) +\n",
    "    labs(title = \"Working with Cereals Again!\", x = \"Manufacturer\", y= \"Calories per portion\") + \n",
    "    theme_bw()"
   ]
  },
  {
   "cell_type": "markdown",
   "metadata": {},
   "source": [
    "In a box plot we can see the change in the median and adjacent quartiles."
   ]
  },
  {
   "cell_type": "markdown",
   "metadata": {},
   "source": [
    "Histogram and density plots\n",
    "--"
   ]
  },
  {
   "cell_type": "markdown",
   "metadata": {},
   "source": [
    "Histogram and density plots show the distribution of a single variable. "
   ]
  },
  {
   "cell_type": "markdown",
   "metadata": {},
   "source": [
    "The following code shows the distribution of calories:"
   ]
  },
  {
   "cell_type": "code",
   "execution_count": 19,
   "metadata": {
    "collapsed": false
   },
   "outputs": [
    {
     "name": "stderr",
     "output_type": "stream",
     "text": [
      "`stat_bin()` using `bins = 30`. Pick better value with `binwidth`.\n"
     ]
    },
    {
     "data": {},
     "metadata": {},
     "output_type": "display_data"
    },
    {
     "data": {
      "image/png": "[encoded data removed]",
      "text/plain": [
       "plot without title"
      ]
     },
     "metadata": {},
     "output_type": "display_data"
    }
   ],
   "source": [
    "g <- ggplot(UScereal, aes(calories))\n",
    "g + geom_histogram(aes(y=..density.., fill=I(\"blue\"))) + \n",
    "    geom_density(aes(color=I(\"brown\"))) + \n",
    "    labs(title=\"Contagem de Calorias\", x=\"Calorias\", y=\"Contagem\") + \n",
    "    theme_bw()"
   ]
  },
  {
   "cell_type": "markdown",
   "metadata": {},
   "source": [
    "WHAT IS THE BIN WIDTH?\n",
    "--"
   ]
  },
  {
   "cell_type": "code",
   "execution_count": 20,
   "metadata": {
    "collapsed": false
   },
   "outputs": [
    {
     "name": "stderr",
     "output_type": "stream",
     "text": [
      "`stat_bin()` using `bins = 30`. Pick better value with `binwidth`.\n"
     ]
    },
    {
     "data": {},
     "metadata": {},
     "output_type": "display_data"
    },
    {
     "data": {
      "image/png": "[encoded data removed]",
      "text/plain": [
       "plot without title"
      ]
     },
     "metadata": {},
     "output_type": "display_data"
    }
   ],
   "source": [
    "g <- ggplot(UScereal, aes(calories))\n",
    "g + geom_histogram(aes(fill=I(\"blue\")))"
   ]
  },
  {
   "cell_type": "markdown",
   "metadata": {},
   "source": [
    "We get a message about the binwidth defaulting to 30.\n",
    "\n",
    "When you make a histogram, you're essentially making a bar chart that shows how many data points fit within a certain range. That range is the bin width.\n",
    "\n",
    "So in a histogram, data is grouped into \"bins\". \n",
    "\n",
    "To construct a histogram, the first step is to \"bin\" the range of values—that is, divide the entire range of values into a series of intervals—and then count how many values fall into each interval. The bins are usually specified as consecutive, non-overlapping intervals of a variable.\n",
    "\n",
    "Lets try to calculate the bin width. \n",
    "\n",
    "We simply find the range (maximum - minimum) and divide that by how many bins we'd like to have. \n",
    "\n",
    "A rough guideline for the number of bins is: take the square root of the number of data values you have."
   ]
  },
  {
   "cell_type": "code",
   "execution_count": 87,
   "metadata": {
    "collapsed": false
   },
   "outputs": [
    {
     "data": {
      "text/html": [
       "390"
      ],
      "text/latex": [
       "390"
      ],
      "text/markdown": [
       "390"
      ],
      "text/plain": [
       "[1] 390"
      ]
     },
     "metadata": {},
     "output_type": "display_data"
    }
   ],
   "source": [
    "range_calories = max(UScereal$calories) - min(UScereal$calories)\n",
    "range_calories"
   ]
  },
  {
   "cell_type": "code",
   "execution_count": 92,
   "metadata": {
    "collapsed": false
   },
   "outputs": [
    {
     "data": {
      "text/html": [
       "8.06225774829855"
      ],
      "text/latex": [
       "8.06225774829855"
      ],
      "text/markdown": [
       "8.06225774829855"
      ],
      "text/plain": [
       "[1] 8.062258"
      ]
     },
     "metadata": {},
     "output_type": "display_data"
    }
   ],
   "source": [
    "number_bins = sqrt(nrow(UScereal))\n",
    "number_bins"
   ]
  },
  {
   "cell_type": "code",
   "execution_count": 94,
   "metadata": {
    "collapsed": false
   },
   "outputs": [
    {
     "data": {
      "text/html": [
       "48.3735464897913"
      ],
      "text/latex": [
       "48.3735464897913"
      ],
      "text/markdown": [
       "48.3735464897913"
      ],
      "text/plain": [
       "[1] 48.37355"
      ]
     },
     "metadata": {},
     "output_type": "display_data"
    }
   ],
   "source": [
    "#SO:\n",
    "correct_bin_width = range_calories/number_bins\n",
    "correct_bin_width"
   ]
  },
  {
   "cell_type": "code",
   "execution_count": 21,
   "metadata": {
    "collapsed": false
   },
   "outputs": [
    {
     "data": {},
     "metadata": {},
     "output_type": "display_data"
    },
    {
     "data": {
      "image/png": "[encoded data removed]",
      "text/plain": [
       "plot without title"
      ]
     },
     "metadata": {},
     "output_type": "display_data"
    }
   ],
   "source": [
    "g + geom_histogram(binwidth = 48, aes(fill=I(\"blue\")))"
   ]
  },
  {
   "cell_type": "markdown",
   "metadata": {},
   "source": [
    "No more messages in red!!!"
   ]
  },
  {
   "cell_type": "code",
   "execution_count": 22,
   "metadata": {
    "collapsed": false
   },
   "outputs": [
    {
     "data": {},
     "metadata": {},
     "output_type": "display_data"
    },
    {
     "data": {
      "image/png": "[encoded data removed]",
      "text/plain": [
       "plot without title"
      ]
     },
     "metadata": {},
     "output_type": "display_data"
    }
   ],
   "source": [
    "g + geom_histogram(binwidth = 48, aes(color=mfr, fill=mfr)) + \n",
    "    labs(title=\"Calories Count\", x=\"Calories\", y=\"Frequency\") + \n",
    "    theme_bw()"
   ]
  },
  {
   "cell_type": "markdown",
   "metadata": {},
   "source": [
    "Too complicated! Lets chack a boxplot of it."
   ]
  },
  {
   "cell_type": "code",
   "execution_count": 24,
   "metadata": {
    "collapsed": false
   },
   "outputs": [
    {
     "name": "stderr",
     "output_type": "stream",
     "text": [
      "Warning message:\n",
      "\"Removed 5 rows containing non-finite values (stat_boxplot).\""
     ]
    },
    {
     "data": {},
     "metadata": {},
     "output_type": "display_data"
    },
    {
     "data": {
      "image/png": "[encoded data removed]",
      "text/plain": [
       "plot without title"
      ]
     },
     "metadata": {},
     "output_type": "display_data"
    }
   ],
   "source": [
    "ggplot(UScereal, aes(x=mfr, y=calories)) + \n",
    "    geom_boxplot(aes(fill=mfr, color=I(\"black\"))) + \n",
    "    ylim(75, 240) +\n",
    "    labs(title = \"Working with Cereals Again!\", x = \"Manufacturer\", y= \"Calories per portion\") + \n",
    "    theme_bw()"
   ]
  },
  {
   "cell_type": "markdown",
   "metadata": {},
   "source": [
    "Time series with line and path plots\n",
    "--"
   ]
  },
  {
   "cell_type": "markdown",
   "metadata": {},
   "source": [
    "Shows how a single variable change over time. \n",
    "\n",
    "Because there is no time variable in the UScereal data, we use the economics dataset which describes unemployment in a certain population over time."
   ]
  },
  {
   "cell_type": "code",
   "execution_count": 25,
   "metadata": {
    "collapsed": false
   },
   "outputs": [
    {
     "name": "stdout",
     "output_type": "stream",
     "text": [
      "Classes 'tbl_df', 'tbl' and 'data.frame':\t574 obs. of  6 variables:\n",
      " $ date    : Date, format: \"1967-07-01\" \"1967-08-01\" ...\n",
      " $ pce     : num  507 510 516 513 518 ...\n",
      " $ pop     : int  198712 198911 199113 199311 199498 199657 199808 199920 200056 200208 ...\n",
      " $ psavert : num  12.5 12.5 11.7 12.5 12.5 12.1 11.7 12.2 11.6 12.2 ...\n",
      " $ uempmed : num  4.5 4.7 4.6 4.9 4.7 4.8 5.1 4.5 4.1 4.6 ...\n",
      " $ unemploy: int  2944 2945 2958 3143 3066 3018 2878 3001 2877 2709 ...\n"
     ]
    }
   ],
   "source": [
    "str(economics)"
   ]
  },
  {
   "cell_type": "code",
   "execution_count": 26,
   "metadata": {
    "collapsed": false
   },
   "outputs": [
    {
     "data": {},
     "metadata": {},
     "output_type": "display_data"
    },
    {
     "data": {
      "image/png": "[encoded data removed]",
      "text/plain": [
       "plot without title"
      ]
     },
     "metadata": {},
     "output_type": "display_data"
    }
   ],
   "source": [
    "g <- ggplot(economics, aes(date, unemploy))\n",
    "g + geom_line(aes(color=I(\"blue\"))) + \n",
    "    labs(title=\"Our First Time Series\", x=\"Date\", y=\"Unemployment in thousands\") +\n",
    "    theme_bw()"
   ]
  },
  {
   "cell_type": "code",
   "execution_count": 27,
   "metadata": {
    "collapsed": false,
    "scrolled": true
   },
   "outputs": [
    {
     "data": {},
     "metadata": {},
     "output_type": "display_data"
    },
    {
     "data": {
      "image/png": "[encoded data removed]",
      "text/plain": [
       "plot without title"
      ]
     },
     "metadata": {},
     "output_type": "display_data"
    }
   ],
   "source": [
    "options(repr.plot.width=4, repr.plot.height=2.9)\n",
    "\n",
    "g <- ggplot(economics, aes(date, unemploy/pop))\n",
    "g + geom_line(aes(color=I(\"blue\"))) + \n",
    "    labs(title=\"Our Second Time Series\", x=\"Date\", y=\"Unemployment/Population\") + theme_bw()"
   ]
  },
  {
   "cell_type": "markdown",
   "metadata": {},
   "source": [
    "Some other themes: Black and White Theme, Grey Theme and The FiveThirtyEight Theme"
   ]
  },
  {
   "cell_type": "code",
   "execution_count": 28,
   "metadata": {
    "collapsed": false
   },
   "outputs": [
    {
     "data": {},
     "metadata": {},
     "output_type": "display_data"
    },
    {
     "data": {},
     "metadata": {},
     "output_type": "display_data"
    },
    {
     "data": {
      "image/png": "[encoded data removed]",
      "text/plain": [
       "plot without title"
      ]
     },
     "metadata": {},
     "output_type": "display_data"
    },
    {
     "data": {},
     "metadata": {},
     "output_type": "display_data"
    },
    {
     "data": {
      "image/png": "[encoded data removed]",
      "text/plain": [
       "plot without title"
      ]
     },
     "metadata": {},
     "output_type": "display_data"
    },
    {
     "data": {
      "image/png": "[encoded data removed]",
      "text/plain": [
       "plot without title"
      ]
     },
     "metadata": {},
     "output_type": "display_data"
    }
   ],
   "source": [
    "library(ggthemes)\n",
    "\n",
    "options(repr.plot.width=4, repr.plot.height=2.9)\n",
    "\n",
    "g <- ggplot(economics, aes(date, unemploy/pop))\n",
    "\n",
    "g + geom_line(aes(color=I(\"blue\"))) + \n",
    "    labs(title=\"Our Second Time Series\", x=\"Date\", y=\"Unemployment/Population\") + theme_bw()\n",
    "\n",
    "g + geom_line(aes(color=I(\"blue\"))) + \n",
    "    labs(title=\"Our Second Time Series\", x=\"Date\", y=\"Unemployment/Population\") + theme_grey()\n",
    "\n",
    "g + geom_line(aes(color=I(\"blue\"))) + \n",
    "    labs(title=\"Our Second Time Series\", x=\"Date\", y=\"Unemployment/Population\") + theme_fivethirtyeight()"
   ]
  },
  {
   "cell_type": "markdown",
   "metadata": {},
   "source": [
    "FACETING\n",
    "--"
   ]
  },
  {
   "cell_type": "markdown",
   "metadata": {},
   "source": [
    "We have already discussed using aesthetics (colour and shape) to compare subgroups, drawing all groups on the same plot.\n",
    "\n",
    "Faceting takes an alternative approach: It creates tables of graphics by splitting the data into subsets and displaying the same graph for each subset in an arrangement that facilitates comparison."
   ]
  },
  {
   "cell_type": "markdown",
   "metadata": {},
   "source": [
    "The default faceting method in GGplot() creates plots arranged on a grid specified by a faceting formula which looks like row_var ~ col_var. \n",
    "\n",
    "You can specify as many row and column variables as you like, keeping in mind that using more than two variables will often produce a plot so large that it is difficult to see on screen. To facet on only one of columns or rows, use . as a place holder. \n",
    "\n",
    "For example, row_var ~ . will create a single column with multiple rows.\n"
   ]
  },
  {
   "cell_type": "markdown",
   "metadata": {},
   "source": [
    "For faceting we will use a different dataset called Diamonds."
   ]
  },
  {
   "cell_type": "code",
   "execution_count": 29,
   "metadata": {
    "collapsed": false
   },
   "outputs": [
    {
     "name": "stdout",
     "output_type": "stream",
     "text": [
      "Classes 'tbl_df', 'tbl' and 'data.frame':\t53940 obs. of  10 variables:\n",
      " $ carat  : num  0.23 0.21 0.23 0.29 0.31 0.24 0.24 0.26 0.22 0.23 ...\n",
      " $ cut    : Ord.factor w/ 5 levels \"Fair\"<\"Good\"<..: 5 4 2 4 2 3 3 3 1 3 ...\n",
      " $ color  : Ord.factor w/ 7 levels \"D\"<\"E\"<\"F\"<\"G\"<..: 2 2 2 6 7 7 6 5 2 5 ...\n",
      " $ clarity: Ord.factor w/ 8 levels \"I1\"<\"SI2\"<\"SI1\"<..: 2 3 5 4 2 6 7 3 4 5 ...\n",
      " $ depth  : num  61.5 59.8 56.9 62.4 63.3 62.8 62.3 61.9 65.1 59.4 ...\n",
      " $ table  : num  55 61 65 58 58 57 57 55 61 61 ...\n",
      " $ price  : int  326 326 327 334 335 336 336 337 337 338 ...\n",
      " $ x      : num  3.95 3.89 4.05 4.2 4.34 3.94 3.95 4.07 3.87 4 ...\n",
      " $ y      : num  3.98 3.84 4.07 4.23 4.35 3.96 3.98 4.11 3.78 4.05 ...\n",
      " $ z      : num  2.43 2.31 2.31 2.63 2.75 2.48 2.47 2.53 2.49 2.39 ...\n"
     ]
    }
   ],
   "source": [
    "str(diamonds)"
   ]
  },
  {
   "cell_type": "code",
   "execution_count": 30,
   "metadata": {
    "collapsed": false
   },
   "outputs": [
    {
     "data": {
      "text/html": [
       "<table>\n",
       "<thead><tr><th scope=col>carat</th><th scope=col>cut</th><th scope=col>color</th><th scope=col>clarity</th><th scope=col>depth</th><th scope=col>table</th><th scope=col>price</th><th scope=col>x</th><th scope=col>y</th><th scope=col>z</th></tr></thead>\n",
       "<tbody>\n",
       "\t<tr><td>0.23     </td><td>Ideal    </td><td>E        </td><td>SI2      </td><td>61.5     </td><td>55       </td><td>326      </td><td>3.95     </td><td>3.98     </td><td>2.43     </td></tr>\n",
       "\t<tr><td>0.21     </td><td>Premium  </td><td>E        </td><td>SI1      </td><td>59.8     </td><td>61       </td><td>326      </td><td>3.89     </td><td>3.84     </td><td>2.31     </td></tr>\n",
       "\t<tr><td>0.23     </td><td>Good     </td><td>E        </td><td>VS1      </td><td>56.9     </td><td>65       </td><td>327      </td><td>4.05     </td><td>4.07     </td><td>2.31     </td></tr>\n",
       "\t<tr><td>0.29     </td><td>Premium  </td><td>I        </td><td>VS2      </td><td>62.4     </td><td>58       </td><td>334      </td><td>4.20     </td><td>4.23     </td><td>2.63     </td></tr>\n",
       "\t<tr><td>0.31     </td><td>Good     </td><td>J        </td><td>SI2      </td><td>63.3     </td><td>58       </td><td>335      </td><td>4.34     </td><td>4.35     </td><td>2.75     </td></tr>\n",
       "\t<tr><td>0.24     </td><td>Very Good</td><td>J        </td><td>VVS2     </td><td>62.8     </td><td>57       </td><td>336      </td><td>3.94     </td><td>3.96     </td><td>2.48     </td></tr>\n",
       "</tbody>\n",
       "</table>\n"
      ],
      "text/latex": [
       "\\begin{tabular}{r|llllllllll}\n",
       " carat & cut & color & clarity & depth & table & price & x & y & z\\\\\n",
       "\\hline\n",
       "\t 0.23      & Ideal     & E         & SI2       & 61.5      & 55        & 326       & 3.95      & 3.98      & 2.43     \\\\\n",
       "\t 0.21      & Premium   & E         & SI1       & 59.8      & 61        & 326       & 3.89      & 3.84      & 2.31     \\\\\n",
       "\t 0.23      & Good      & E         & VS1       & 56.9      & 65        & 327       & 4.05      & 4.07      & 2.31     \\\\\n",
       "\t 0.29      & Premium   & I         & VS2       & 62.4      & 58        & 334       & 4.20      & 4.23      & 2.63     \\\\\n",
       "\t 0.31      & Good      & J         & SI2       & 63.3      & 58        & 335       & 4.34      & 4.35      & 2.75     \\\\\n",
       "\t 0.24      & Very Good & J         & VVS2      & 62.8      & 57        & 336       & 3.94      & 3.96      & 2.48     \\\\\n",
       "\\end{tabular}\n"
      ],
      "text/markdown": [
       "\n",
       "carat | cut | color | clarity | depth | table | price | x | y | z | \n",
       "|---|---|---|---|---|---|\n",
       "| 0.23      | Ideal     | E         | SI2       | 61.5      | 55        | 326       | 3.95      | 3.98      | 2.43      | \n",
       "| 0.21      | Premium   | E         | SI1       | 59.8      | 61        | 326       | 3.89      | 3.84      | 2.31      | \n",
       "| 0.23      | Good      | E         | VS1       | 56.9      | 65        | 327       | 4.05      | 4.07      | 2.31      | \n",
       "| 0.29      | Premium   | I         | VS2       | 62.4      | 58        | 334       | 4.20      | 4.23      | 2.63      | \n",
       "| 0.31      | Good      | J         | SI2       | 63.3      | 58        | 335       | 4.34      | 4.35      | 2.75      | \n",
       "| 0.24      | Very Good | J         | VVS2      | 62.8      | 57        | 336       | 3.94      | 3.96      | 2.48      | \n",
       "\n",
       "\n"
      ],
      "text/plain": [
       "  carat cut       color clarity depth table price x    y    z   \n",
       "1 0.23  Ideal     E     SI2     61.5  55    326   3.95 3.98 2.43\n",
       "2 0.21  Premium   E     SI1     59.8  61    326   3.89 3.84 2.31\n",
       "3 0.23  Good      E     VS1     56.9  65    327   4.05 4.07 2.31\n",
       "4 0.29  Premium   I     VS2     62.4  58    334   4.20 4.23 2.63\n",
       "5 0.31  Good      J     SI2     63.3  58    335   4.34 4.35 2.75\n",
       "6 0.24  Very Good J     VVS2    62.8  57    336   3.94 3.96 2.48"
      ]
     },
     "metadata": {},
     "output_type": "display_data"
    }
   ],
   "source": [
    "head(diamonds)"
   ]
  },
  {
   "cell_type": "markdown",
   "metadata": {},
   "source": [
    "The following code illustrates this technique with a histogram showing the distribution of carats conditional on color. "
   ]
  },
  {
   "cell_type": "code",
   "execution_count": 31,
   "metadata": {
    "collapsed": false
   },
   "outputs": [
    {
     "data": {},
     "metadata": {},
     "output_type": "display_data"
    },
    {
     "data": {
      "image/png": "[encoded data removed]",
      "text/plain": [
       "plot without title"
      ]
     },
     "metadata": {},
     "output_type": "display_data"
    }
   ],
   "source": [
    "options(repr.plot.width=5, repr.plot.height=6)\n",
    "\n",
    "ggplot(diamonds, aes(carat)) + \n",
    "    geom_histogram(binwidth = 0.1, aes(fill=I(\"blue\"))) + \n",
    "    facet_grid(color ~.) + \n",
    "    coord_cartesian(xlim = c(0, 3), ylim = c(0, 1800)) + \n",
    "    theme_bw() + \n",
    "    labs(x=\"Carats\", y=\"Frequency\")"
   ]
  },
  {
   "cell_type": "code",
   "execution_count": 32,
   "metadata": {
    "collapsed": false
   },
   "outputs": [
    {
     "name": "stdout",
     "output_type": "stream",
     "text": [
      "Classes 'tbl_df', 'tbl' and 'data.frame':\t200 obs. of  10 variables:\n",
      " $ carat  : num  0.34 1.54 1.22 2.09 0.39 0.54 1.17 0.66 1.52 0.31 ...\n",
      " $ cut    : Ord.factor w/ 5 levels \"Fair\"<\"Good\"<..: 4 4 5 4 5 5 2 5 4 4 ...\n",
      " $ color  : Ord.factor w/ 7 levels \"D\"<\"E\"<\"F\"<\"G\"<..: 4 2 5 5 4 6 7 2 5 5 ...\n",
      " $ clarity: Ord.factor w/ 8 levels \"I1\"<\"SI2\"<\"SI1\"<..: 4 2 5 2 4 2 3 2 5 3 ...\n",
      " $ depth  : num  61.6 59 61.9 62.1 60.7 60.9 63.9 61.9 61.4 62.7 ...\n",
      " $ table  : num  58 62 54 58 54 57 55 55 58 58 ...\n",
      " $ price  : int  765 8020 8411 17156 745 935 4054 1560 11621 558 ...\n",
      " $ x      : num  4.51 7.59 6.88 8.22 4.74 5.26 6.66 5.61 7.44 4.34 ...\n",
      " $ y      : num  4.45 7.56 6.9 8.17 4.77 5.31 6.73 5.64 7.3 4.31 ...\n",
      " $ z      : num  2.76 4.47 4.26 5.09 2.89 3.22 4.28 3.48 4.55 2.71 ...\n"
     ]
    }
   ],
   "source": [
    "diamonds_small <- diamonds[sample(1:nrow(diamonds), 200, replace=FALSE),]\n",
    "str(diamonds_small)"
   ]
  },
  {
   "cell_type": "markdown",
   "metadata": {},
   "source": [
    "Now lets try it with some scatter plots:"
   ]
  },
  {
   "cell_type": "code",
   "execution_count": 33,
   "metadata": {
    "collapsed": false
   },
   "outputs": [
    {
     "data": {},
     "metadata": {},
     "output_type": "display_data"
    },
    {
     "data": {
      "image/png": "[encoded data removed]",
      "text/plain": [
       "plot without title"
      ]
     },
     "metadata": {},
     "output_type": "display_data"
    }
   ],
   "source": [
    "options(repr.plot.width=4, repr.plot.height=4)\n",
    "\n",
    "g <- ggplot(diamonds_small, aes(x=carat, y=price, color=color)) + \n",
    "    geom_point(shape=1) +\n",
    "    labs(title=\"Smaller Scatter Plot\", x=\"Carat\", y=\"Price\") + \n",
    "    theme_fivethirtyeight()\n",
    "g"
   ]
  },
  {
   "cell_type": "code",
   "execution_count": 34,
   "metadata": {
    "collapsed": false
   },
   "outputs": [
    {
     "data": {},
     "metadata": {},
     "output_type": "display_data"
    },
    {
     "data": {
      "image/png": "[encoded data removed]",
      "text/plain": [
       "plot without title"
      ]
     },
     "metadata": {},
     "output_type": "display_data"
    }
   ],
   "source": [
    "options(repr.plot.width=5, repr.plot.height=6)\n",
    "\n",
    "# Divide by levels of \"color\", in the vertical direction\n",
    "g <- ggplot(diamonds_small, aes(x=carat, y=price, color=color)) + \n",
    "    geom_point(shape=1) +\n",
    "    labs(title=\"Smaller Scatter Plot\", x=\"Carat\", y=\"Price\") + \n",
    "    theme_bw() +\n",
    "    facet_grid(color ~ .)\n",
    "g"
   ]
  },
  {
   "cell_type": "code",
   "execution_count": 35,
   "metadata": {
    "collapsed": false
   },
   "outputs": [
    {
     "data": {},
     "metadata": {},
     "output_type": "display_data"
    },
    {
     "data": {
      "image/png": "[encoded data removed]",
      "text/plain": [
       "plot without title"
      ]
     },
     "metadata": {},
     "output_type": "display_data"
    }
   ],
   "source": [
    "options(repr.plot.width=7, repr.plot.height=6)\n",
    "\n",
    "# Divide by levels of \"color\", in the horizontal direction\n",
    "g <- ggplot(diamonds_small, aes(x=carat, y=price, color=color)) + \n",
    "    geom_point(shape=1) +\n",
    "    labs(title=\"Smaller Scatter Plot\", x=\"Carat\", y=\"Price\") + \n",
    "    theme_bw() +\n",
    "    facet_grid(. ~ color)\n",
    "g"
   ]
  },
  {
   "cell_type": "code",
   "execution_count": 36,
   "metadata": {
    "collapsed": false
   },
   "outputs": [
    {
     "data": {},
     "metadata": {},
     "output_type": "display_data"
    },
    {
     "data": {
      "image/png": "[encoded data removed]",
      "text/plain": [
       "plot without title"
      ]
     },
     "metadata": {},
     "output_type": "display_data"
    }
   ],
   "source": [
    "options(repr.plot.width=7, repr.plot.height=6)\n",
    "\n",
    "# Divide with \"cut\" vertical, \"shape\" horizontal\n",
    "g <- ggplot(diamonds_small, aes(x=carat, y=price, color=color)) + \n",
    "    geom_point(shape=1) +\n",
    "    labs(title=\"Smaller Scatter Plot\", x=\"Carat\", y=\"Price\") + \n",
    "    theme_grey() +\n",
    "    facet_grid(cut ~ color)\n",
    "g"
   ]
  },
  {
   "cell_type": "markdown",
   "metadata": {},
   "source": [
    "plotly - Interactive ggplot\n",
    "--"
   ]
  },
  {
   "cell_type": "markdown",
   "metadata": {},
   "source": [
    "In R Studio."
   ]
  },
  {
   "cell_type": "markdown",
   "metadata": {},
   "source": [
    "Sumário para recapitular:\n",
    "--"
   ]
  },
  {
   "cell_type": "code",
   "execution_count": null,
   "metadata": {
    "collapsed": true
   },
   "outputs": [],
   "source": [
    "- ggplot2 baseado na \"Gramática de Gráficos\"\n",
    "\n",
    "- str() e head() para inspeccionar base de dados\n",
    "\n",
    "- os 2 atributos do ggplot2 mais importantes são: Aesthetics e Geoms\n",
    "\n",
    "- geom_point: Gráfico de Pontos\n",
    "- geom_smooth: Curva\n",
    "- geom_boxplot: Gráfico de \"Caixas\"\n",
    "- geom_hist e geom_density: Histograma e Densidade\n",
    "- geom_line: Time Series\n",
    "\n",
    "- facet_grid: \"multigráfico\"\n",
    "\n",
    "- theme_bw/theme_grey/theme_fivethirtyeight\n",
    "\n",
    "- ggplotly: pacote Plotly para intectividade"
   ]
  }
 ],
 "metadata": {
  "kernelspec": {
   "display_name": "R",
   "language": "R",
   "name": "ir"
  },
  "language_info": {
   "codemirror_mode": "r",
   "file_extension": ".r",
   "mimetype": "text/x-r-source",
   "name": "R",
   "pygments_lexer": "r",
   "version": "3.3.2"
  }
 },
 "nbformat": 4,
 "nbformat_minor": 2
}
